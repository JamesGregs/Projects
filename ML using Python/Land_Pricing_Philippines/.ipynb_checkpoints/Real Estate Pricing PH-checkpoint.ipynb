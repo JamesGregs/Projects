{
 "cells": [
  {
   "cell_type": "code",
   "execution_count": 1,
   "id": "584e8116",
   "metadata": {},
   "outputs": [
    {
     "data": {
      "text/plain": [
       "'C:\\\\Users\\\\Gregs\\\\ML Projects'"
      ]
     },
     "execution_count": 1,
     "metadata": {},
     "output_type": "execute_result"
    }
   ],
   "source": [
    "import os\n",
    "os.getcwd()"
   ]
  },
  {
   "cell_type": "markdown",
   "id": "e664bd59",
   "metadata": {},
   "source": [
    "# Import necessary library for the project"
   ]
  },
  {
   "cell_type": "code",
   "execution_count": 2,
   "id": "0e987f57",
   "metadata": {},
   "outputs": [],
   "source": [
    "import pandas as pd\n",
    "import numpy as np\n",
    "from matplotlib import pyplot as plt\n",
    "get_ipython().run_line_magic('matplotlib', 'inline')\n",
    "import matplotlib\n",
    "matplotlib.rcParams[\"figure.figsize\"] = (20, 10)"
   ]
  },
  {
   "cell_type": "code",
   "execution_count": 3,
   "id": "7fd7b4cb",
   "metadata": {},
   "outputs": [],
   "source": [
    "path = 'C:\\\\Users\\\\Gregs\\\\anaconda3\\\\envs\\\\MLProject(LandPricing)\\\\'"
   ]
  },
  {
   "cell_type": "code",
   "execution_count": 4,
   "id": "6d27c392",
   "metadata": {},
   "outputs": [
    {
     "data": {
      "text/html": [
       "<div>\n",
       "<style scoped>\n",
       "    .dataframe tbody tr th:only-of-type {\n",
       "        vertical-align: middle;\n",
       "    }\n",
       "\n",
       "    .dataframe tbody tr th {\n",
       "        vertical-align: top;\n",
       "    }\n",
       "\n",
       "    .dataframe thead th {\n",
       "        text-align: right;\n",
       "    }\n",
       "</style>\n",
       "<table border=\"1\" class=\"dataframe\">\n",
       "  <thead>\n",
       "    <tr style=\"text-align: right;\">\n",
       "      <th></th>\n",
       "      <th>Description</th>\n",
       "      <th>Location</th>\n",
       "      <th>Category</th>\n",
       "      <th>Sub-Category</th>\n",
       "      <th>Land Size(M2)</th>\n",
       "      <th>Building Size(M2)</th>\n",
       "      <th>Car Space</th>\n",
       "      <th>Bedrooms</th>\n",
       "      <th>Bathrooms</th>\n",
       "      <th>Longitude</th>\n",
       "      <th>Latitude</th>\n",
       "      <th>Condominum Name</th>\n",
       "      <th>Price(Php)</th>\n",
       "      <th>Link</th>\n",
       "    </tr>\n",
       "  </thead>\n",
       "  <tbody>\n",
       "    <tr>\n",
       "      <th>0</th>\n",
       "      <td>Rush Sale! 3Bedroom Condo Unit in McKinley Gar...</td>\n",
       "      <td>McKinley Hill, Taguig</td>\n",
       "      <td>Condominium</td>\n",
       "      <td>Condominium,3-bedroom</td>\n",
       "      <td>None</td>\n",
       "      <td>128</td>\n",
       "      <td>None</td>\n",
       "      <td>3</td>\n",
       "      <td>2</td>\n",
       "      <td>121.055300</td>\n",
       "      <td>14.537120</td>\n",
       "      <td>McKinley Garden Villas</td>\n",
       "      <td>19000000.0</td>\n",
       "      <td>https://www.lamudi.com.ph/rush-sale-3bedroom-c...</td>\n",
       "    </tr>\n",
       "    <tr>\n",
       "      <th>1</th>\n",
       "      <td>Starts at 13K/MO Pre Selling House &amp; Lot in Bu...</td>\n",
       "      <td>Sapang Maisac, Mexico</td>\n",
       "      <td>House</td>\n",
       "      <td>House,single-family-house</td>\n",
       "      <td>101</td>\n",
       "      <td>60</td>\n",
       "      <td>None</td>\n",
       "      <td>3</td>\n",
       "      <td>2</td>\n",
       "      <td>120.665111</td>\n",
       "      <td>15.169115</td>\n",
       "      <td>None</td>\n",
       "      <td>3700000.0</td>\n",
       "      <td>https://www.lamudi.com.ph/starts-at-13k-mo-pre...</td>\n",
       "    </tr>\n",
       "    <tr>\n",
       "      <th>2</th>\n",
       "      <td>Pretty Bungalow House in Catalunan Grande Dava...</td>\n",
       "      <td>Catalunan Grande, Davao</td>\n",
       "      <td>House</td>\n",
       "      <td>House,single-family-house</td>\n",
       "      <td>100</td>\n",
       "      <td>75</td>\n",
       "      <td>None</td>\n",
       "      <td>3</td>\n",
       "      <td>2</td>\n",
       "      <td>125.534347</td>\n",
       "      <td>7.090939</td>\n",
       "      <td>None</td>\n",
       "      <td>3790000.0</td>\n",
       "      <td>https://www.lamudi.com.ph/pretty-bungalow-hous...</td>\n",
       "    </tr>\n",
       "    <tr>\n",
       "      <th>3</th>\n",
       "      <td>Narvacan Ilocos Sur Farm lot For Sale (Along B...</td>\n",
       "      <td>Margaay, Narvacan</td>\n",
       "      <td>Land</td>\n",
       "      <td>Land,agricutural-lot</td>\n",
       "      <td>6132</td>\n",
       "      <td>None</td>\n",
       "      <td>None</td>\n",
       "      <td>None</td>\n",
       "      <td>None</td>\n",
       "      <td>120.470266</td>\n",
       "      <td>17.430680</td>\n",
       "      <td>None</td>\n",
       "      <td>3066000.0</td>\n",
       "      <td>https://www.lamudi.com.ph/narvacan-farm-lot-fo...</td>\n",
       "    </tr>\n",
       "    <tr>\n",
       "      <th>4</th>\n",
       "      <td>Re-Opened Prime Beach Lot in Playa Laiya</td>\n",
       "      <td>Laiya-Aplaya, San Juan</td>\n",
       "      <td>Land</td>\n",
       "      <td>Land,beach-lot</td>\n",
       "      <td>537</td>\n",
       "      <td>None</td>\n",
       "      <td>None</td>\n",
       "      <td>None</td>\n",
       "      <td>None</td>\n",
       "      <td>121.379905</td>\n",
       "      <td>13.691466</td>\n",
       "      <td>None</td>\n",
       "      <td>20191200.0</td>\n",
       "      <td>https://www.lamudi.com.ph/re-opened-prime-beac...</td>\n",
       "    </tr>\n",
       "  </tbody>\n",
       "</table>\n",
       "</div>"
      ],
      "text/plain": [
       "                                         Description                 Location  \\\n",
       "0  Rush Sale! 3Bedroom Condo Unit in McKinley Gar...    McKinley Hill, Taguig   \n",
       "1  Starts at 13K/MO Pre Selling House & Lot in Bu...    Sapang Maisac, Mexico   \n",
       "2  Pretty Bungalow House in Catalunan Grande Dava...  Catalunan Grande, Davao   \n",
       "3  Narvacan Ilocos Sur Farm lot For Sale (Along B...        Margaay, Narvacan   \n",
       "4           Re-Opened Prime Beach Lot in Playa Laiya   Laiya-Aplaya, San Juan   \n",
       "\n",
       "      Category               Sub-Category Land Size(M2) Building Size(M2)  \\\n",
       "0  Condominium      Condominium,3-bedroom          None               128   \n",
       "1        House  House,single-family-house           101                60   \n",
       "2        House  House,single-family-house           100                75   \n",
       "3         Land       Land,agricutural-lot          6132              None   \n",
       "4         Land             Land,beach-lot           537              None   \n",
       "\n",
       "  Car Space Bedrooms Bathrooms   Longitude   Latitude         Condominum Name  \\\n",
       "0      None        3         2  121.055300  14.537120  McKinley Garden Villas   \n",
       "1      None        3         2  120.665111  15.169115                    None   \n",
       "2      None        3         2  125.534347   7.090939                    None   \n",
       "3      None     None      None  120.470266  17.430680                    None   \n",
       "4      None     None      None  121.379905  13.691466                    None   \n",
       "\n",
       "   Price(Php)                                               Link  \n",
       "0  19000000.0  https://www.lamudi.com.ph/rush-sale-3bedroom-c...  \n",
       "1   3700000.0  https://www.lamudi.com.ph/starts-at-13k-mo-pre...  \n",
       "2   3790000.0  https://www.lamudi.com.ph/pretty-bungalow-hous...  \n",
       "3   3066000.0  https://www.lamudi.com.ph/narvacan-farm-lot-fo...  \n",
       "4  20191200.0  https://www.lamudi.com.ph/re-opened-prime-beac...  "
      ]
     },
     "execution_count": 4,
     "metadata": {},
     "output_type": "execute_result"
    }
   ],
   "source": [
    "df1 = pd.read_csv(path + \"properties.csv\")\n",
    "df1.head()"
   ]
  },
  {
   "cell_type": "code",
   "execution_count": 5,
   "id": "2a6e478e",
   "metadata": {},
   "outputs": [
    {
     "data": {
      "text/plain": [
       "(3000, 14)"
      ]
     },
     "execution_count": 5,
     "metadata": {},
     "output_type": "execute_result"
    }
   ],
   "source": [
    "df1.shape"
   ]
  },
  {
   "cell_type": "markdown",
   "id": "e3bf0f83",
   "metadata": {},
   "source": [
    "# Data cleaning process"
   ]
  },
  {
   "cell_type": "code",
   "execution_count": 6,
   "id": "4415a654",
   "metadata": {},
   "outputs": [
    {
     "data": {
      "text/plain": [
       "Location\n",
       "A. Dalusag, General Emilio Aguinaldo    1\n",
       "A. Mabini, Caloocan                     2\n",
       "A. Sandoval Avenue, Pasig               2\n",
       "Addition Hills, Mandaluyong             3\n",
       "Addition Hills, San Juan                1\n",
       "                                       ..\n",
       "Yapak, Malay                            6\n",
       "Yulo-Arroyo, Iloilo                     1\n",
       "Zambal, Tagaytay                        5\n",
       "Zapote, Binan                           2\n",
       "Zaragosa, Aloguinsan                    1\n",
       "Name: Location, Length: 788, dtype: int64"
      ]
     },
     "execution_count": 6,
     "metadata": {},
     "output_type": "execute_result"
    }
   ],
   "source": [
    "df1.groupby('Location')['Location'].agg('count')"
   ]
  },
  {
   "cell_type": "code",
   "execution_count": 7,
   "id": "0d656def",
   "metadata": {},
   "outputs": [
    {
     "data": {
      "text/html": [
       "<div>\n",
       "<style scoped>\n",
       "    .dataframe tbody tr th:only-of-type {\n",
       "        vertical-align: middle;\n",
       "    }\n",
       "\n",
       "    .dataframe tbody tr th {\n",
       "        vertical-align: top;\n",
       "    }\n",
       "\n",
       "    .dataframe thead th {\n",
       "        text-align: right;\n",
       "    }\n",
       "</style>\n",
       "<table border=\"1\" class=\"dataframe\">\n",
       "  <thead>\n",
       "    <tr style=\"text-align: right;\">\n",
       "      <th></th>\n",
       "      <th>Location</th>\n",
       "      <th>Land Size(M2)</th>\n",
       "      <th>Building Size(M2)</th>\n",
       "      <th>Bedrooms</th>\n",
       "      <th>Bathrooms</th>\n",
       "      <th>Price(Php)</th>\n",
       "    </tr>\n",
       "  </thead>\n",
       "  <tbody>\n",
       "    <tr>\n",
       "      <th>0</th>\n",
       "      <td>McKinley Hill, Taguig</td>\n",
       "      <td>None</td>\n",
       "      <td>128</td>\n",
       "      <td>3</td>\n",
       "      <td>2</td>\n",
       "      <td>19000000.0</td>\n",
       "    </tr>\n",
       "    <tr>\n",
       "      <th>1</th>\n",
       "      <td>Sapang Maisac, Mexico</td>\n",
       "      <td>101</td>\n",
       "      <td>60</td>\n",
       "      <td>3</td>\n",
       "      <td>2</td>\n",
       "      <td>3700000.0</td>\n",
       "    </tr>\n",
       "    <tr>\n",
       "      <th>2</th>\n",
       "      <td>Catalunan Grande, Davao</td>\n",
       "      <td>100</td>\n",
       "      <td>75</td>\n",
       "      <td>3</td>\n",
       "      <td>2</td>\n",
       "      <td>3790000.0</td>\n",
       "    </tr>\n",
       "    <tr>\n",
       "      <th>3</th>\n",
       "      <td>Margaay, Narvacan</td>\n",
       "      <td>6132</td>\n",
       "      <td>None</td>\n",
       "      <td>None</td>\n",
       "      <td>None</td>\n",
       "      <td>3066000.0</td>\n",
       "    </tr>\n",
       "    <tr>\n",
       "      <th>4</th>\n",
       "      <td>Laiya-Aplaya, San Juan</td>\n",
       "      <td>537</td>\n",
       "      <td>None</td>\n",
       "      <td>None</td>\n",
       "      <td>None</td>\n",
       "      <td>20191200.0</td>\n",
       "    </tr>\n",
       "  </tbody>\n",
       "</table>\n",
       "</div>"
      ],
      "text/plain": [
       "                  Location Land Size(M2) Building Size(M2) Bedrooms Bathrooms  \\\n",
       "0    McKinley Hill, Taguig          None               128        3         2   \n",
       "1    Sapang Maisac, Mexico           101                60        3         2   \n",
       "2  Catalunan Grande, Davao           100                75        3         2   \n",
       "3        Margaay, Narvacan          6132              None     None      None   \n",
       "4   Laiya-Aplaya, San Juan           537              None     None      None   \n",
       "\n",
       "   Price(Php)  \n",
       "0  19000000.0  \n",
       "1   3700000.0  \n",
       "2   3790000.0  \n",
       "3   3066000.0  \n",
       "4  20191200.0  "
      ]
     },
     "execution_count": 7,
     "metadata": {},
     "output_type": "execute_result"
    }
   ],
   "source": [
    "df2 = df1.drop(['Description','Category', 'Sub-Category', 'Car Space', 'Longitude', 'Latitude', 'Condominum Name', 'Link'], axis='columns')\n",
    "df2.head()"
   ]
  },
  {
   "cell_type": "code",
   "execution_count": 8,
   "id": "ad77d458",
   "metadata": {},
   "outputs": [
    {
     "data": {
      "text/plain": [
       "Location             0\n",
       "Land Size(M2)        0\n",
       "Building Size(M2)    0\n",
       "Bedrooms             0\n",
       "Bathrooms            0\n",
       "Price(Php)           0\n",
       "dtype: int64"
      ]
     },
     "execution_count": 8,
     "metadata": {},
     "output_type": "execute_result"
    }
   ],
   "source": [
    "df2.isnull().sum()"
   ]
  },
  {
   "cell_type": "code",
   "execution_count": 9,
   "id": "2aa42a46",
   "metadata": {},
   "outputs": [
    {
     "data": {
      "text/html": [
       "<div>\n",
       "<style scoped>\n",
       "    .dataframe tbody tr th:only-of-type {\n",
       "        vertical-align: middle;\n",
       "    }\n",
       "\n",
       "    .dataframe tbody tr th {\n",
       "        vertical-align: top;\n",
       "    }\n",
       "\n",
       "    .dataframe thead th {\n",
       "        text-align: right;\n",
       "    }\n",
       "</style>\n",
       "<table border=\"1\" class=\"dataframe\">\n",
       "  <thead>\n",
       "    <tr style=\"text-align: right;\">\n",
       "      <th></th>\n",
       "      <th>Location</th>\n",
       "      <th>Land Size(M2)</th>\n",
       "      <th>Building Size(M2)</th>\n",
       "      <th>Bedrooms</th>\n",
       "      <th>Bathrooms</th>\n",
       "      <th>Price(Php)</th>\n",
       "    </tr>\n",
       "  </thead>\n",
       "  <tbody>\n",
       "    <tr>\n",
       "      <th>0</th>\n",
       "      <td>McKinley Hill, Taguig</td>\n",
       "      <td>NaN</td>\n",
       "      <td>128</td>\n",
       "      <td>3</td>\n",
       "      <td>2</td>\n",
       "      <td>19000000.0</td>\n",
       "    </tr>\n",
       "    <tr>\n",
       "      <th>1</th>\n",
       "      <td>Sapang Maisac, Mexico</td>\n",
       "      <td>101</td>\n",
       "      <td>60</td>\n",
       "      <td>3</td>\n",
       "      <td>2</td>\n",
       "      <td>3700000.0</td>\n",
       "    </tr>\n",
       "    <tr>\n",
       "      <th>2</th>\n",
       "      <td>Catalunan Grande, Davao</td>\n",
       "      <td>100</td>\n",
       "      <td>75</td>\n",
       "      <td>3</td>\n",
       "      <td>2</td>\n",
       "      <td>3790000.0</td>\n",
       "    </tr>\n",
       "    <tr>\n",
       "      <th>3</th>\n",
       "      <td>Margaay, Narvacan</td>\n",
       "      <td>6132</td>\n",
       "      <td>NaN</td>\n",
       "      <td>NaN</td>\n",
       "      <td>NaN</td>\n",
       "      <td>3066000.0</td>\n",
       "    </tr>\n",
       "    <tr>\n",
       "      <th>4</th>\n",
       "      <td>Laiya-Aplaya, San Juan</td>\n",
       "      <td>537</td>\n",
       "      <td>NaN</td>\n",
       "      <td>NaN</td>\n",
       "      <td>NaN</td>\n",
       "      <td>20191200.0</td>\n",
       "    </tr>\n",
       "  </tbody>\n",
       "</table>\n",
       "</div>"
      ],
      "text/plain": [
       "                  Location Land Size(M2) Building Size(M2) Bedrooms Bathrooms  \\\n",
       "0    McKinley Hill, Taguig           NaN               128        3         2   \n",
       "1    Sapang Maisac, Mexico           101                60        3         2   \n",
       "2  Catalunan Grande, Davao           100                75        3         2   \n",
       "3        Margaay, Narvacan          6132               NaN      NaN       NaN   \n",
       "4   Laiya-Aplaya, San Juan           537               NaN      NaN       NaN   \n",
       "\n",
       "   Price(Php)  \n",
       "0  19000000.0  \n",
       "1   3700000.0  \n",
       "2   3790000.0  \n",
       "3   3066000.0  \n",
       "4  20191200.0  "
      ]
     },
     "execution_count": 9,
     "metadata": {},
     "output_type": "execute_result"
    }
   ],
   "source": [
    "df3 = df2.replace('None', np.nan)\n",
    "df3.head()"
   ]
  },
  {
   "cell_type": "code",
   "execution_count": 10,
   "id": "12f620b2",
   "metadata": {},
   "outputs": [
    {
     "data": {
      "text/html": [
       "<div>\n",
       "<style scoped>\n",
       "    .dataframe tbody tr th:only-of-type {\n",
       "        vertical-align: middle;\n",
       "    }\n",
       "\n",
       "    .dataframe tbody tr th {\n",
       "        vertical-align: top;\n",
       "    }\n",
       "\n",
       "    .dataframe thead th {\n",
       "        text-align: right;\n",
       "    }\n",
       "</style>\n",
       "<table border=\"1\" class=\"dataframe\">\n",
       "  <thead>\n",
       "    <tr style=\"text-align: right;\">\n",
       "      <th></th>\n",
       "      <th>Location</th>\n",
       "      <th>Land Size(M2)</th>\n",
       "      <th>Building Size(M2)</th>\n",
       "      <th>Bedrooms</th>\n",
       "      <th>Bathrooms</th>\n",
       "      <th>Price(Php)</th>\n",
       "    </tr>\n",
       "  </thead>\n",
       "  <tbody>\n",
       "    <tr>\n",
       "      <th>0</th>\n",
       "      <td>McKinley Hill, Taguig</td>\n",
       "      <td>NaN</td>\n",
       "      <td>128</td>\n",
       "      <td>3</td>\n",
       "      <td>2</td>\n",
       "      <td>19000000.0</td>\n",
       "    </tr>\n",
       "    <tr>\n",
       "      <th>1</th>\n",
       "      <td>Sapang Maisac, Mexico</td>\n",
       "      <td>101</td>\n",
       "      <td>60</td>\n",
       "      <td>3</td>\n",
       "      <td>2</td>\n",
       "      <td>3700000.0</td>\n",
       "    </tr>\n",
       "    <tr>\n",
       "      <th>2</th>\n",
       "      <td>Catalunan Grande, Davao</td>\n",
       "      <td>100</td>\n",
       "      <td>75</td>\n",
       "      <td>3</td>\n",
       "      <td>2</td>\n",
       "      <td>3790000.0</td>\n",
       "    </tr>\n",
       "    <tr>\n",
       "      <th>3</th>\n",
       "      <td>Margaay, Narvacan</td>\n",
       "      <td>6132</td>\n",
       "      <td>NaN</td>\n",
       "      <td>NaN</td>\n",
       "      <td>NaN</td>\n",
       "      <td>3066000.0</td>\n",
       "    </tr>\n",
       "    <tr>\n",
       "      <th>4</th>\n",
       "      <td>Laiya-Aplaya, San Juan</td>\n",
       "      <td>537</td>\n",
       "      <td>NaN</td>\n",
       "      <td>NaN</td>\n",
       "      <td>NaN</td>\n",
       "      <td>20191200.0</td>\n",
       "    </tr>\n",
       "  </tbody>\n",
       "</table>\n",
       "</div>"
      ],
      "text/plain": [
       "                  Location Land Size(M2) Building Size(M2) Bedrooms Bathrooms  \\\n",
       "0    McKinley Hill, Taguig           NaN               128        3         2   \n",
       "1    Sapang Maisac, Mexico           101                60        3         2   \n",
       "2  Catalunan Grande, Davao           100                75        3         2   \n",
       "3        Margaay, Narvacan          6132               NaN      NaN       NaN   \n",
       "4   Laiya-Aplaya, San Juan           537               NaN      NaN       NaN   \n",
       "\n",
       "   Price(Php)  \n",
       "0  19000000.0  \n",
       "1   3700000.0  \n",
       "2   3790000.0  \n",
       "3   3066000.0  \n",
       "4  20191200.0  "
      ]
     },
     "execution_count": 10,
     "metadata": {},
     "output_type": "execute_result"
    }
   ],
   "source": [
    "df3 = df3.replace('0', np.nan)\n",
    "df3.head()"
   ]
  },
  {
   "cell_type": "code",
   "execution_count": 11,
   "id": "e097149c",
   "metadata": {},
   "outputs": [
    {
     "data": {
      "text/plain": [
       "(3000, 6)"
      ]
     },
     "execution_count": 11,
     "metadata": {},
     "output_type": "execute_result"
    }
   ],
   "source": [
    "df3.shape"
   ]
  },
  {
   "cell_type": "code",
   "execution_count": 12,
   "id": "5b1c63e3",
   "metadata": {},
   "outputs": [
    {
     "data": {
      "text/html": [
       "<div>\n",
       "<style scoped>\n",
       "    .dataframe tbody tr th:only-of-type {\n",
       "        vertical-align: middle;\n",
       "    }\n",
       "\n",
       "    .dataframe tbody tr th {\n",
       "        vertical-align: top;\n",
       "    }\n",
       "\n",
       "    .dataframe thead th {\n",
       "        text-align: right;\n",
       "    }\n",
       "</style>\n",
       "<table border=\"1\" class=\"dataframe\">\n",
       "  <thead>\n",
       "    <tr style=\"text-align: right;\">\n",
       "      <th></th>\n",
       "      <th>Location</th>\n",
       "      <th>Land Size(M2)</th>\n",
       "      <th>Building Size(M2)</th>\n",
       "      <th>Bedrooms</th>\n",
       "      <th>Bathrooms</th>\n",
       "      <th>Price(Php)</th>\n",
       "    </tr>\n",
       "  </thead>\n",
       "  <tbody>\n",
       "    <tr>\n",
       "      <th>1</th>\n",
       "      <td>Sapang Maisac, Mexico</td>\n",
       "      <td>101</td>\n",
       "      <td>60</td>\n",
       "      <td>3</td>\n",
       "      <td>2</td>\n",
       "      <td>3700000.0</td>\n",
       "    </tr>\n",
       "    <tr>\n",
       "      <th>2</th>\n",
       "      <td>Catalunan Grande, Davao</td>\n",
       "      <td>100</td>\n",
       "      <td>75</td>\n",
       "      <td>3</td>\n",
       "      <td>2</td>\n",
       "      <td>3790000.0</td>\n",
       "    </tr>\n",
       "    <tr>\n",
       "      <th>8</th>\n",
       "      <td>Telabastagan, San Fernando</td>\n",
       "      <td>240</td>\n",
       "      <td>440</td>\n",
       "      <td>4</td>\n",
       "      <td>5</td>\n",
       "      <td>19700000.0</td>\n",
       "    </tr>\n",
       "    <tr>\n",
       "      <th>10</th>\n",
       "      <td>Ayala Alabang, Muntinlupa</td>\n",
       "      <td>570</td>\n",
       "      <td>900</td>\n",
       "      <td>6</td>\n",
       "      <td>6</td>\n",
       "      <td>235000000.0</td>\n",
       "    </tr>\n",
       "    <tr>\n",
       "      <th>19</th>\n",
       "      <td>San Roque, Paombong</td>\n",
       "      <td>80</td>\n",
       "      <td>85</td>\n",
       "      <td>3</td>\n",
       "      <td>2</td>\n",
       "      <td>4100000.0</td>\n",
       "    </tr>\n",
       "  </tbody>\n",
       "</table>\n",
       "</div>"
      ],
      "text/plain": [
       "                      Location Land Size(M2) Building Size(M2) Bedrooms  \\\n",
       "1        Sapang Maisac, Mexico           101                60        3   \n",
       "2      Catalunan Grande, Davao           100                75        3   \n",
       "8   Telabastagan, San Fernando           240               440        4   \n",
       "10   Ayala Alabang, Muntinlupa           570               900        6   \n",
       "19         San Roque, Paombong            80                85        3   \n",
       "\n",
       "   Bathrooms   Price(Php)  \n",
       "1          2    3700000.0  \n",
       "2          2    3790000.0  \n",
       "8          5   19700000.0  \n",
       "10         6  235000000.0  \n",
       "19         2    4100000.0  "
      ]
     },
     "execution_count": 12,
     "metadata": {},
     "output_type": "execute_result"
    }
   ],
   "source": [
    "df4 = df3.dropna()\n",
    "df4.head()"
   ]
  },
  {
   "cell_type": "code",
   "execution_count": 13,
   "id": "d1ba563a",
   "metadata": {},
   "outputs": [
    {
     "data": {
      "text/plain": [
       "(1184, 6)"
      ]
     },
     "execution_count": 13,
     "metadata": {},
     "output_type": "execute_result"
    }
   ],
   "source": [
    "df4.shape"
   ]
  },
  {
   "cell_type": "code",
   "execution_count": 14,
   "id": "5a55ca19",
   "metadata": {},
   "outputs": [
    {
     "data": {
      "text/plain": [
       "array(['2', '5', '6', '1', '3', '10', '4', '5.5', '8', '2.5', '9', '3.5',\n",
       "       '7', '4.5', '17', '12', '11'], dtype=object)"
      ]
     },
     "execution_count": 14,
     "metadata": {},
     "output_type": "execute_result"
    }
   ],
   "source": [
    "df4['Bathrooms'].unique()"
   ]
  },
  {
   "cell_type": "code",
   "execution_count": 15,
   "id": "b81eb4a2",
   "metadata": {},
   "outputs": [
    {
     "data": {
      "text/html": [
       "<div>\n",
       "<style scoped>\n",
       "    .dataframe tbody tr th:only-of-type {\n",
       "        vertical-align: middle;\n",
       "    }\n",
       "\n",
       "    .dataframe tbody tr th {\n",
       "        vertical-align: top;\n",
       "    }\n",
       "\n",
       "    .dataframe thead th {\n",
       "        text-align: right;\n",
       "    }\n",
       "</style>\n",
       "<table border=\"1\" class=\"dataframe\">\n",
       "  <thead>\n",
       "    <tr style=\"text-align: right;\">\n",
       "      <th></th>\n",
       "      <th>Location</th>\n",
       "      <th>Land Size(M2)</th>\n",
       "      <th>Building Size(M2)</th>\n",
       "      <th>Bedrooms</th>\n",
       "      <th>Bathrooms</th>\n",
       "      <th>Price(Php)</th>\n",
       "    </tr>\n",
       "  </thead>\n",
       "  <tbody>\n",
       "    <tr>\n",
       "      <th>2991</th>\n",
       "      <td>Santo Nino, Binan</td>\n",
       "      <td>60</td>\n",
       "      <td>90</td>\n",
       "      <td>3</td>\n",
       "      <td>2</td>\n",
       "      <td>4800000.0</td>\n",
       "    </tr>\n",
       "    <tr>\n",
       "      <th>2992</th>\n",
       "      <td>Santo Nino, Binan</td>\n",
       "      <td>80</td>\n",
       "      <td>90</td>\n",
       "      <td>3</td>\n",
       "      <td>2</td>\n",
       "      <td>5300000.0</td>\n",
       "    </tr>\n",
       "    <tr>\n",
       "      <th>2993</th>\n",
       "      <td>Matandang Balara, Quezon City</td>\n",
       "      <td>480</td>\n",
       "      <td>820</td>\n",
       "      <td>5</td>\n",
       "      <td>5</td>\n",
       "      <td>160000000.0</td>\n",
       "    </tr>\n",
       "    <tr>\n",
       "      <th>2994</th>\n",
       "      <td>Greenhills, San Juan</td>\n",
       "      <td>315</td>\n",
       "      <td>500</td>\n",
       "      <td>4</td>\n",
       "      <td>4</td>\n",
       "      <td>65000000.0</td>\n",
       "    </tr>\n",
       "    <tr>\n",
       "      <th>2995</th>\n",
       "      <td>Mariblo, Quezon City</td>\n",
       "      <td>640</td>\n",
       "      <td>700</td>\n",
       "      <td>5</td>\n",
       "      <td>4</td>\n",
       "      <td>45500000.0</td>\n",
       "    </tr>\n",
       "  </tbody>\n",
       "</table>\n",
       "</div>"
      ],
      "text/plain": [
       "                           Location Land Size(M2) Building Size(M2) Bedrooms  \\\n",
       "2991              Santo Nino, Binan            60                90        3   \n",
       "2992              Santo Nino, Binan            80                90        3   \n",
       "2993  Matandang Balara, Quezon City           480               820        5   \n",
       "2994           Greenhills, San Juan           315               500        4   \n",
       "2995           Mariblo, Quezon City           640               700        5   \n",
       "\n",
       "     Bathrooms   Price(Php)  \n",
       "2991         2    4800000.0  \n",
       "2992         2    5300000.0  \n",
       "2993         5  160000000.0  \n",
       "2994         4   65000000.0  \n",
       "2995         4   45500000.0  "
      ]
     },
     "execution_count": 15,
     "metadata": {},
     "output_type": "execute_result"
    }
   ],
   "source": [
    "df4.tail()"
   ]
  },
  {
   "cell_type": "code",
   "execution_count": 16,
   "id": "1a27ae9c",
   "metadata": {},
   "outputs": [
    {
     "name": "stderr",
     "output_type": "stream",
     "text": [
      "C:\\Users\\Gregs\\AppData\\Local\\Temp\\ipykernel_14388\\2667463206.py:1: SettingWithCopyWarning: \n",
      "A value is trying to be set on a copy of a slice from a DataFrame.\n",
      "Try using .loc[row_indexer,col_indexer] = value instead\n",
      "\n",
      "See the caveats in the documentation: https://pandas.pydata.org/pandas-docs/stable/user_guide/indexing.html#returning-a-view-versus-a-copy\n",
      "  df4['Bathrooms'] = pd.to_numeric(df4['Bathrooms'], errors='coerce')\n"
     ]
    }
   ],
   "source": [
    "df4['Bathrooms'] = pd.to_numeric(df4['Bathrooms'], errors='coerce')"
   ]
  },
  {
   "cell_type": "code",
   "execution_count": 17,
   "id": "57e43b85",
   "metadata": {},
   "outputs": [
    {
     "data": {
      "text/html": [
       "<div>\n",
       "<style scoped>\n",
       "    .dataframe tbody tr th:only-of-type {\n",
       "        vertical-align: middle;\n",
       "    }\n",
       "\n",
       "    .dataframe tbody tr th {\n",
       "        vertical-align: top;\n",
       "    }\n",
       "\n",
       "    .dataframe thead th {\n",
       "        text-align: right;\n",
       "    }\n",
       "</style>\n",
       "<table border=\"1\" class=\"dataframe\">\n",
       "  <thead>\n",
       "    <tr style=\"text-align: right;\">\n",
       "      <th></th>\n",
       "      <th>Location</th>\n",
       "      <th>Land Size(M2)</th>\n",
       "      <th>Building Size(M2)</th>\n",
       "      <th>Bedrooms</th>\n",
       "      <th>Bathrooms</th>\n",
       "      <th>Price(Php)</th>\n",
       "    </tr>\n",
       "  </thead>\n",
       "  <tbody>\n",
       "    <tr>\n",
       "      <th>1</th>\n",
       "      <td>Sapang Maisac, Mexico</td>\n",
       "      <td>101</td>\n",
       "      <td>60</td>\n",
       "      <td>3</td>\n",
       "      <td>2.0</td>\n",
       "      <td>3700000.0</td>\n",
       "    </tr>\n",
       "    <tr>\n",
       "      <th>2</th>\n",
       "      <td>Catalunan Grande, Davao</td>\n",
       "      <td>100</td>\n",
       "      <td>75</td>\n",
       "      <td>3</td>\n",
       "      <td>2.0</td>\n",
       "      <td>3790000.0</td>\n",
       "    </tr>\n",
       "    <tr>\n",
       "      <th>8</th>\n",
       "      <td>Telabastagan, San Fernando</td>\n",
       "      <td>240</td>\n",
       "      <td>440</td>\n",
       "      <td>4</td>\n",
       "      <td>5.0</td>\n",
       "      <td>19700000.0</td>\n",
       "    </tr>\n",
       "    <tr>\n",
       "      <th>10</th>\n",
       "      <td>Ayala Alabang, Muntinlupa</td>\n",
       "      <td>570</td>\n",
       "      <td>900</td>\n",
       "      <td>6</td>\n",
       "      <td>6.0</td>\n",
       "      <td>235000000.0</td>\n",
       "    </tr>\n",
       "    <tr>\n",
       "      <th>19</th>\n",
       "      <td>San Roque, Paombong</td>\n",
       "      <td>80</td>\n",
       "      <td>85</td>\n",
       "      <td>3</td>\n",
       "      <td>2.0</td>\n",
       "      <td>4100000.0</td>\n",
       "    </tr>\n",
       "  </tbody>\n",
       "</table>\n",
       "</div>"
      ],
      "text/plain": [
       "                      Location Land Size(M2) Building Size(M2) Bedrooms  \\\n",
       "1        Sapang Maisac, Mexico           101                60        3   \n",
       "2      Catalunan Grande, Davao           100                75        3   \n",
       "8   Telabastagan, San Fernando           240               440        4   \n",
       "10   Ayala Alabang, Muntinlupa           570               900        6   \n",
       "19         San Roque, Paombong            80                85        3   \n",
       "\n",
       "    Bathrooms   Price(Php)  \n",
       "1         2.0    3700000.0  \n",
       "2         2.0    3790000.0  \n",
       "8         5.0   19700000.0  \n",
       "10        6.0  235000000.0  \n",
       "19        2.0    4100000.0  "
      ]
     },
     "execution_count": 17,
     "metadata": {},
     "output_type": "execute_result"
    }
   ],
   "source": [
    "df4.head()"
   ]
  },
  {
   "cell_type": "code",
   "execution_count": 18,
   "id": "91d874a4",
   "metadata": {},
   "outputs": [
    {
     "data": {
      "text/plain": [
       "array([ 2. ,  5. ,  6. ,  1. ,  3. , 10. ,  4. ,  5.5,  8. ,  2.5,  9. ,\n",
       "        3.5,  7. ,  4.5, 17. , 12. , 11. ])"
      ]
     },
     "execution_count": 18,
     "metadata": {},
     "output_type": "execute_result"
    }
   ],
   "source": [
    "df4['Bathrooms'].unique()"
   ]
  },
  {
   "cell_type": "code",
   "execution_count": 19,
   "id": "ac2f00bb",
   "metadata": {},
   "outputs": [
    {
     "data": {
      "text/html": [
       "<div>\n",
       "<style scoped>\n",
       "    .dataframe tbody tr th:only-of-type {\n",
       "        vertical-align: middle;\n",
       "    }\n",
       "\n",
       "    .dataframe tbody tr th {\n",
       "        vertical-align: top;\n",
       "    }\n",
       "\n",
       "    .dataframe thead th {\n",
       "        text-align: right;\n",
       "    }\n",
       "</style>\n",
       "<table border=\"1\" class=\"dataframe\">\n",
       "  <thead>\n",
       "    <tr style=\"text-align: right;\">\n",
       "      <th></th>\n",
       "      <th>Location</th>\n",
       "      <th>Land Size(M2)</th>\n",
       "      <th>Building Size(M2)</th>\n",
       "      <th>Bedrooms</th>\n",
       "      <th>Bathrooms</th>\n",
       "      <th>Price(Php)</th>\n",
       "    </tr>\n",
       "  </thead>\n",
       "  <tbody>\n",
       "    <tr>\n",
       "      <th>655</th>\n",
       "      <td>Mambugan, Antipolo</td>\n",
       "      <td>2186</td>\n",
       "      <td>2500</td>\n",
       "      <td>10</td>\n",
       "      <td>17.0</td>\n",
       "      <td>421800000.0</td>\n",
       "    </tr>\n",
       "    <tr>\n",
       "      <th>668</th>\n",
       "      <td>San Juan, Antipolo</td>\n",
       "      <td>2186</td>\n",
       "      <td>2500</td>\n",
       "      <td>10</td>\n",
       "      <td>17.0</td>\n",
       "      <td>10000000.0</td>\n",
       "    </tr>\n",
       "    <tr>\n",
       "      <th>669</th>\n",
       "      <td>San Juan, Antipolo</td>\n",
       "      <td>2186</td>\n",
       "      <td>2500</td>\n",
       "      <td>10</td>\n",
       "      <td>17.0</td>\n",
       "      <td>10000000.0</td>\n",
       "    </tr>\n",
       "    <tr>\n",
       "      <th>670</th>\n",
       "      <td>San Juan, Antipolo</td>\n",
       "      <td>2186</td>\n",
       "      <td>2500</td>\n",
       "      <td>10</td>\n",
       "      <td>17.0</td>\n",
       "      <td>10000000.0</td>\n",
       "    </tr>\n",
       "    <tr>\n",
       "      <th>671</th>\n",
       "      <td>San Juan, Antipolo</td>\n",
       "      <td>2186</td>\n",
       "      <td>2500</td>\n",
       "      <td>10</td>\n",
       "      <td>17.0</td>\n",
       "      <td>10000000.0</td>\n",
       "    </tr>\n",
       "    <tr>\n",
       "      <th>877</th>\n",
       "      <td>San Juan, Cainta</td>\n",
       "      <td>2186</td>\n",
       "      <td>2500</td>\n",
       "      <td>10</td>\n",
       "      <td>17.0</td>\n",
       "      <td>350000000.0</td>\n",
       "    </tr>\n",
       "    <tr>\n",
       "      <th>878</th>\n",
       "      <td>San Juan, Cainta</td>\n",
       "      <td>2186</td>\n",
       "      <td>2500</td>\n",
       "      <td>10</td>\n",
       "      <td>17.0</td>\n",
       "      <td>350000000.0</td>\n",
       "    </tr>\n",
       "    <tr>\n",
       "      <th>879</th>\n",
       "      <td>San Juan, Cainta</td>\n",
       "      <td>2186</td>\n",
       "      <td>2500</td>\n",
       "      <td>10</td>\n",
       "      <td>17.0</td>\n",
       "      <td>350000000.0</td>\n",
       "    </tr>\n",
       "    <tr>\n",
       "      <th>980</th>\n",
       "      <td>Mambugan, Antipolo</td>\n",
       "      <td>2186</td>\n",
       "      <td>2500</td>\n",
       "      <td>10</td>\n",
       "      <td>17.0</td>\n",
       "      <td>421800000.0</td>\n",
       "    </tr>\n",
       "    <tr>\n",
       "      <th>981</th>\n",
       "      <td>San Juan, Cainta</td>\n",
       "      <td>2186</td>\n",
       "      <td>2500</td>\n",
       "      <td>10</td>\n",
       "      <td>17.0</td>\n",
       "      <td>421800000.0</td>\n",
       "    </tr>\n",
       "    <tr>\n",
       "      <th>982</th>\n",
       "      <td>San Juan, Cainta</td>\n",
       "      <td>2186</td>\n",
       "      <td>2500</td>\n",
       "      <td>10</td>\n",
       "      <td>17.0</td>\n",
       "      <td>421800000.0</td>\n",
       "    </tr>\n",
       "    <tr>\n",
       "      <th>983</th>\n",
       "      <td>San Isidro, Antipolo</td>\n",
       "      <td>2186</td>\n",
       "      <td>2500</td>\n",
       "      <td>10</td>\n",
       "      <td>17.0</td>\n",
       "      <td>421800000.0</td>\n",
       "    </tr>\n",
       "    <tr>\n",
       "      <th>993</th>\n",
       "      <td>San Isidro, Cainta</td>\n",
       "      <td>2186</td>\n",
       "      <td>2500</td>\n",
       "      <td>10</td>\n",
       "      <td>17.0</td>\n",
       "      <td>421800000.0</td>\n",
       "    </tr>\n",
       "    <tr>\n",
       "      <th>994</th>\n",
       "      <td>Mambugan, Antipolo</td>\n",
       "      <td>2186</td>\n",
       "      <td>2500</td>\n",
       "      <td>10</td>\n",
       "      <td>17.0</td>\n",
       "      <td>421800000.0</td>\n",
       "    </tr>\n",
       "  </tbody>\n",
       "</table>\n",
       "</div>"
      ],
      "text/plain": [
       "                 Location Land Size(M2) Building Size(M2) Bedrooms  Bathrooms  \\\n",
       "655    Mambugan, Antipolo          2186              2500       10       17.0   \n",
       "668    San Juan, Antipolo          2186              2500       10       17.0   \n",
       "669    San Juan, Antipolo          2186              2500       10       17.0   \n",
       "670    San Juan, Antipolo          2186              2500       10       17.0   \n",
       "671    San Juan, Antipolo          2186              2500       10       17.0   \n",
       "877      San Juan, Cainta          2186              2500       10       17.0   \n",
       "878      San Juan, Cainta          2186              2500       10       17.0   \n",
       "879      San Juan, Cainta          2186              2500       10       17.0   \n",
       "980    Mambugan, Antipolo          2186              2500       10       17.0   \n",
       "981      San Juan, Cainta          2186              2500       10       17.0   \n",
       "982      San Juan, Cainta          2186              2500       10       17.0   \n",
       "983  San Isidro, Antipolo          2186              2500       10       17.0   \n",
       "993    San Isidro, Cainta          2186              2500       10       17.0   \n",
       "994    Mambugan, Antipolo          2186              2500       10       17.0   \n",
       "\n",
       "      Price(Php)  \n",
       "655  421800000.0  \n",
       "668   10000000.0  \n",
       "669   10000000.0  \n",
       "670   10000000.0  \n",
       "671   10000000.0  \n",
       "877  350000000.0  \n",
       "878  350000000.0  \n",
       "879  350000000.0  \n",
       "980  421800000.0  \n",
       "981  421800000.0  \n",
       "982  421800000.0  \n",
       "983  421800000.0  \n",
       "993  421800000.0  \n",
       "994  421800000.0  "
      ]
     },
     "execution_count": 19,
     "metadata": {},
     "output_type": "execute_result"
    }
   ],
   "source": [
    "df4[df4.Bathrooms > 12]"
   ]
  },
  {
   "cell_type": "code",
   "execution_count": 20,
   "id": "12771dff",
   "metadata": {},
   "outputs": [],
   "source": [
    "df5 = df4.drop_duplicates()"
   ]
  },
  {
   "cell_type": "code",
   "execution_count": 21,
   "id": "9bdff92a",
   "metadata": {},
   "outputs": [
    {
     "data": {
      "text/plain": [
       "(975, 6)"
      ]
     },
     "execution_count": 21,
     "metadata": {},
     "output_type": "execute_result"
    }
   ],
   "source": [
    "df5.shape"
   ]
  },
  {
   "cell_type": "code",
   "execution_count": 22,
   "id": "3b4ca511",
   "metadata": {
    "scrolled": true
   },
   "outputs": [
    {
     "data": {
      "text/html": [
       "<div>\n",
       "<style scoped>\n",
       "    .dataframe tbody tr th:only-of-type {\n",
       "        vertical-align: middle;\n",
       "    }\n",
       "\n",
       "    .dataframe tbody tr th {\n",
       "        vertical-align: top;\n",
       "    }\n",
       "\n",
       "    .dataframe thead th {\n",
       "        text-align: right;\n",
       "    }\n",
       "</style>\n",
       "<table border=\"1\" class=\"dataframe\">\n",
       "  <thead>\n",
       "    <tr style=\"text-align: right;\">\n",
       "      <th></th>\n",
       "      <th>Location</th>\n",
       "      <th>Land Size(M2)</th>\n",
       "      <th>Building Size(M2)</th>\n",
       "      <th>Bedrooms</th>\n",
       "      <th>Bathrooms</th>\n",
       "      <th>Price(Php)</th>\n",
       "    </tr>\n",
       "  </thead>\n",
       "  <tbody>\n",
       "    <tr>\n",
       "      <th>655</th>\n",
       "      <td>Mambugan, Antipolo</td>\n",
       "      <td>2186</td>\n",
       "      <td>2500</td>\n",
       "      <td>10</td>\n",
       "      <td>17.0</td>\n",
       "      <td>421800000.0</td>\n",
       "    </tr>\n",
       "    <tr>\n",
       "      <th>668</th>\n",
       "      <td>San Juan, Antipolo</td>\n",
       "      <td>2186</td>\n",
       "      <td>2500</td>\n",
       "      <td>10</td>\n",
       "      <td>17.0</td>\n",
       "      <td>10000000.0</td>\n",
       "    </tr>\n",
       "    <tr>\n",
       "      <th>877</th>\n",
       "      <td>San Juan, Cainta</td>\n",
       "      <td>2186</td>\n",
       "      <td>2500</td>\n",
       "      <td>10</td>\n",
       "      <td>17.0</td>\n",
       "      <td>350000000.0</td>\n",
       "    </tr>\n",
       "    <tr>\n",
       "      <th>981</th>\n",
       "      <td>San Juan, Cainta</td>\n",
       "      <td>2186</td>\n",
       "      <td>2500</td>\n",
       "      <td>10</td>\n",
       "      <td>17.0</td>\n",
       "      <td>421800000.0</td>\n",
       "    </tr>\n",
       "    <tr>\n",
       "      <th>983</th>\n",
       "      <td>San Isidro, Antipolo</td>\n",
       "      <td>2186</td>\n",
       "      <td>2500</td>\n",
       "      <td>10</td>\n",
       "      <td>17.0</td>\n",
       "      <td>421800000.0</td>\n",
       "    </tr>\n",
       "    <tr>\n",
       "      <th>993</th>\n",
       "      <td>San Isidro, Cainta</td>\n",
       "      <td>2186</td>\n",
       "      <td>2500</td>\n",
       "      <td>10</td>\n",
       "      <td>17.0</td>\n",
       "      <td>421800000.0</td>\n",
       "    </tr>\n",
       "  </tbody>\n",
       "</table>\n",
       "</div>"
      ],
      "text/plain": [
       "                 Location Land Size(M2) Building Size(M2) Bedrooms  Bathrooms  \\\n",
       "655    Mambugan, Antipolo          2186              2500       10       17.0   \n",
       "668    San Juan, Antipolo          2186              2500       10       17.0   \n",
       "877      San Juan, Cainta          2186              2500       10       17.0   \n",
       "981      San Juan, Cainta          2186              2500       10       17.0   \n",
       "983  San Isidro, Antipolo          2186              2500       10       17.0   \n",
       "993    San Isidro, Cainta          2186              2500       10       17.0   \n",
       "\n",
       "      Price(Php)  \n",
       "655  421800000.0  \n",
       "668   10000000.0  \n",
       "877  350000000.0  \n",
       "981  421800000.0  \n",
       "983  421800000.0  \n",
       "993  421800000.0  "
      ]
     },
     "execution_count": 22,
     "metadata": {},
     "output_type": "execute_result"
    }
   ],
   "source": [
    "df5[df5.Bathrooms > 12]"
   ]
  },
  {
   "cell_type": "markdown",
   "id": "07600a22",
   "metadata": {},
   "source": [
    "# Creation of a function to select rows on a column with a float data type as a part of data cleaning"
   ]
  },
  {
   "cell_type": "code",
   "execution_count": 23,
   "id": "e3268108",
   "metadata": {},
   "outputs": [],
   "source": [
    "# create a function to detect value in a column if float or not\n",
    "def is_float(x):\n",
    "    try:\n",
    "        float(x)\n",
    "    except:\n",
    "        return False\n",
    "    return True"
   ]
  },
  {
   "cell_type": "code",
   "execution_count": 24,
   "id": "65542ece",
   "metadata": {},
   "outputs": [
    {
     "data": {
      "text/html": [
       "<div>\n",
       "<style scoped>\n",
       "    .dataframe tbody tr th:only-of-type {\n",
       "        vertical-align: middle;\n",
       "    }\n",
       "\n",
       "    .dataframe tbody tr th {\n",
       "        vertical-align: top;\n",
       "    }\n",
       "\n",
       "    .dataframe thead th {\n",
       "        text-align: right;\n",
       "    }\n",
       "</style>\n",
       "<table border=\"1\" class=\"dataframe\">\n",
       "  <thead>\n",
       "    <tr style=\"text-align: right;\">\n",
       "      <th></th>\n",
       "      <th>Location</th>\n",
       "      <th>Land Size(M2)</th>\n",
       "      <th>Building Size(M2)</th>\n",
       "      <th>Bedrooms</th>\n",
       "      <th>Bathrooms</th>\n",
       "      <th>Price(Php)</th>\n",
       "    </tr>\n",
       "  </thead>\n",
       "  <tbody>\n",
       "  </tbody>\n",
       "</table>\n",
       "</div>"
      ],
      "text/plain": [
       "Empty DataFrame\n",
       "Columns: [Location, Land Size(M2), Building Size(M2), Bedrooms, Bathrooms, Price(Php)]\n",
       "Index: []"
      ]
     },
     "execution_count": 24,
     "metadata": {},
     "output_type": "execute_result"
    }
   ],
   "source": [
    "df5[~df5['Bedrooms'].apply(is_float)].head(20)"
   ]
  },
  {
   "cell_type": "code",
   "execution_count": 25,
   "id": "2d9f2e8c",
   "metadata": {},
   "outputs": [
    {
     "data": {
      "text/html": [
       "<div>\n",
       "<style scoped>\n",
       "    .dataframe tbody tr th:only-of-type {\n",
       "        vertical-align: middle;\n",
       "    }\n",
       "\n",
       "    .dataframe tbody tr th {\n",
       "        vertical-align: top;\n",
       "    }\n",
       "\n",
       "    .dataframe thead th {\n",
       "        text-align: right;\n",
       "    }\n",
       "</style>\n",
       "<table border=\"1\" class=\"dataframe\">\n",
       "  <thead>\n",
       "    <tr style=\"text-align: right;\">\n",
       "      <th></th>\n",
       "      <th>Location</th>\n",
       "      <th>Land Size(M2)</th>\n",
       "      <th>Building Size(M2)</th>\n",
       "      <th>Bedrooms</th>\n",
       "      <th>Bathrooms</th>\n",
       "      <th>Price(Php)</th>\n",
       "    </tr>\n",
       "  </thead>\n",
       "  <tbody>\n",
       "    <tr>\n",
       "      <th>1</th>\n",
       "      <td>Sapang Maisac, Mexico</td>\n",
       "      <td>101</td>\n",
       "      <td>60</td>\n",
       "      <td>3</td>\n",
       "      <td>2.0</td>\n",
       "      <td>3700000.0</td>\n",
       "    </tr>\n",
       "    <tr>\n",
       "      <th>2</th>\n",
       "      <td>Catalunan Grande, Davao</td>\n",
       "      <td>100</td>\n",
       "      <td>75</td>\n",
       "      <td>3</td>\n",
       "      <td>2.0</td>\n",
       "      <td>3790000.0</td>\n",
       "    </tr>\n",
       "    <tr>\n",
       "      <th>8</th>\n",
       "      <td>Telabastagan, San Fernando</td>\n",
       "      <td>240</td>\n",
       "      <td>440</td>\n",
       "      <td>4</td>\n",
       "      <td>5.0</td>\n",
       "      <td>19700000.0</td>\n",
       "    </tr>\n",
       "    <tr>\n",
       "      <th>10</th>\n",
       "      <td>Ayala Alabang, Muntinlupa</td>\n",
       "      <td>570</td>\n",
       "      <td>900</td>\n",
       "      <td>6</td>\n",
       "      <td>6.0</td>\n",
       "      <td>235000000.0</td>\n",
       "    </tr>\n",
       "    <tr>\n",
       "      <th>19</th>\n",
       "      <td>San Roque, Paombong</td>\n",
       "      <td>80</td>\n",
       "      <td>85</td>\n",
       "      <td>3</td>\n",
       "      <td>2.0</td>\n",
       "      <td>4100000.0</td>\n",
       "    </tr>\n",
       "    <tr>\n",
       "      <th>21</th>\n",
       "      <td>Mulig, Davao</td>\n",
       "      <td>100</td>\n",
       "      <td>35.1</td>\n",
       "      <td>2</td>\n",
       "      <td>1.0</td>\n",
       "      <td>2300000.0</td>\n",
       "    </tr>\n",
       "    <tr>\n",
       "      <th>22</th>\n",
       "      <td>San Roque, Cainta</td>\n",
       "      <td>76</td>\n",
       "      <td>125</td>\n",
       "      <td>3</td>\n",
       "      <td>3.0</td>\n",
       "      <td>5400000.0</td>\n",
       "    </tr>\n",
       "    <tr>\n",
       "      <th>32</th>\n",
       "      <td>Camp 7, Baguio</td>\n",
       "      <td>191</td>\n",
       "      <td>300</td>\n",
       "      <td>5</td>\n",
       "      <td>5.0</td>\n",
       "      <td>21000000.0</td>\n",
       "    </tr>\n",
       "    <tr>\n",
       "      <th>37</th>\n",
       "      <td>Francisco, Tagaytay</td>\n",
       "      <td>680</td>\n",
       "      <td>2000</td>\n",
       "      <td>9</td>\n",
       "      <td>10.0</td>\n",
       "      <td>85000000.0</td>\n",
       "    </tr>\n",
       "    <tr>\n",
       "      <th>38</th>\n",
       "      <td>Greenhills, San Juan</td>\n",
       "      <td>232</td>\n",
       "      <td>502</td>\n",
       "      <td>4</td>\n",
       "      <td>4.0</td>\n",
       "      <td>53815248.6</td>\n",
       "    </tr>\n",
       "  </tbody>\n",
       "</table>\n",
       "</div>"
      ],
      "text/plain": [
       "                      Location Land Size(M2) Building Size(M2) Bedrooms  \\\n",
       "1        Sapang Maisac, Mexico           101                60        3   \n",
       "2      Catalunan Grande, Davao           100                75        3   \n",
       "8   Telabastagan, San Fernando           240               440        4   \n",
       "10   Ayala Alabang, Muntinlupa           570               900        6   \n",
       "19         San Roque, Paombong            80                85        3   \n",
       "21                Mulig, Davao           100              35.1        2   \n",
       "22           San Roque, Cainta            76               125        3   \n",
       "32              Camp 7, Baguio           191               300        5   \n",
       "37         Francisco, Tagaytay           680              2000        9   \n",
       "38        Greenhills, San Juan           232               502        4   \n",
       "\n",
       "    Bathrooms   Price(Php)  \n",
       "1         2.0    3700000.0  \n",
       "2         2.0    3790000.0  \n",
       "8         5.0   19700000.0  \n",
       "10        6.0  235000000.0  \n",
       "19        2.0    4100000.0  \n",
       "21        1.0    2300000.0  \n",
       "22        3.0    5400000.0  \n",
       "32        5.0   21000000.0  \n",
       "37       10.0   85000000.0  \n",
       "38        4.0   53815248.6  "
      ]
     },
     "execution_count": 25,
     "metadata": {},
     "output_type": "execute_result"
    }
   ],
   "source": [
    "df5.head(10)"
   ]
  },
  {
   "cell_type": "markdown",
   "id": "1cbcb607",
   "metadata": {},
   "source": [
    "# Feature Engineering will be helpful for outlier detection and removal "
   ]
  },
  {
   "cell_type": "code",
   "execution_count": 26,
   "id": "ac6ff202",
   "metadata": {},
   "outputs": [
    {
     "data": {
      "text/html": [
       "<div>\n",
       "<style scoped>\n",
       "    .dataframe tbody tr th:only-of-type {\n",
       "        vertical-align: middle;\n",
       "    }\n",
       "\n",
       "    .dataframe tbody tr th {\n",
       "        vertical-align: top;\n",
       "    }\n",
       "\n",
       "    .dataframe thead th {\n",
       "        text-align: right;\n",
       "    }\n",
       "</style>\n",
       "<table border=\"1\" class=\"dataframe\">\n",
       "  <thead>\n",
       "    <tr style=\"text-align: right;\">\n",
       "      <th></th>\n",
       "      <th>Location</th>\n",
       "      <th>Land Size(M2)</th>\n",
       "      <th>Building Size(M2)</th>\n",
       "      <th>Bedrooms</th>\n",
       "      <th>Bathrooms</th>\n",
       "      <th>Price(Php)</th>\n",
       "    </tr>\n",
       "  </thead>\n",
       "  <tbody>\n",
       "    <tr>\n",
       "      <th>1</th>\n",
       "      <td>Sapang Maisac, Mexico</td>\n",
       "      <td>101</td>\n",
       "      <td>60</td>\n",
       "      <td>3</td>\n",
       "      <td>2.0</td>\n",
       "      <td>3700000.0</td>\n",
       "    </tr>\n",
       "    <tr>\n",
       "      <th>2</th>\n",
       "      <td>Catalunan Grande, Davao</td>\n",
       "      <td>100</td>\n",
       "      <td>75</td>\n",
       "      <td>3</td>\n",
       "      <td>2.0</td>\n",
       "      <td>3790000.0</td>\n",
       "    </tr>\n",
       "    <tr>\n",
       "      <th>8</th>\n",
       "      <td>Telabastagan, San Fernando</td>\n",
       "      <td>240</td>\n",
       "      <td>440</td>\n",
       "      <td>4</td>\n",
       "      <td>5.0</td>\n",
       "      <td>19700000.0</td>\n",
       "    </tr>\n",
       "  </tbody>\n",
       "</table>\n",
       "</div>"
      ],
      "text/plain": [
       "                     Location Land Size(M2) Building Size(M2) Bedrooms  \\\n",
       "1       Sapang Maisac, Mexico           101                60        3   \n",
       "2     Catalunan Grande, Davao           100                75        3   \n",
       "8  Telabastagan, San Fernando           240               440        4   \n",
       "\n",
       "   Bathrooms  Price(Php)  \n",
       "1        2.0   3700000.0  \n",
       "2        2.0   3790000.0  \n",
       "8        5.0  19700000.0  "
      ]
     },
     "execution_count": 26,
     "metadata": {},
     "output_type": "execute_result"
    }
   ],
   "source": [
    "df6 = df5.copy()\n",
    "df6.head(3)"
   ]
  },
  {
   "cell_type": "code",
   "execution_count": 27,
   "id": "d676e178",
   "metadata": {},
   "outputs": [
    {
     "data": {
      "text/html": [
       "<div>\n",
       "<style scoped>\n",
       "    .dataframe tbody tr th:only-of-type {\n",
       "        vertical-align: middle;\n",
       "    }\n",
       "\n",
       "    .dataframe tbody tr th {\n",
       "        vertical-align: top;\n",
       "    }\n",
       "\n",
       "    .dataframe thead th {\n",
       "        text-align: right;\n",
       "    }\n",
       "</style>\n",
       "<table border=\"1\" class=\"dataframe\">\n",
       "  <thead>\n",
       "    <tr style=\"text-align: right;\">\n",
       "      <th></th>\n",
       "      <th>Location</th>\n",
       "      <th>Land Size(M2)</th>\n",
       "      <th>Building Size(M2)</th>\n",
       "      <th>Bedrooms</th>\n",
       "      <th>Bathrooms</th>\n",
       "      <th>Price(Php)</th>\n",
       "      <th>price_per_sqm</th>\n",
       "    </tr>\n",
       "  </thead>\n",
       "  <tbody>\n",
       "    <tr>\n",
       "      <th>1</th>\n",
       "      <td>Sapang Maisac, Mexico</td>\n",
       "      <td>101.0</td>\n",
       "      <td>60.0</td>\n",
       "      <td>3.0</td>\n",
       "      <td>2.0</td>\n",
       "      <td>3700000.0</td>\n",
       "      <td>36633.663366</td>\n",
       "    </tr>\n",
       "    <tr>\n",
       "      <th>2</th>\n",
       "      <td>Catalunan Grande, Davao</td>\n",
       "      <td>100.0</td>\n",
       "      <td>75.0</td>\n",
       "      <td>3.0</td>\n",
       "      <td>2.0</td>\n",
       "      <td>3790000.0</td>\n",
       "      <td>37900.000000</td>\n",
       "    </tr>\n",
       "    <tr>\n",
       "      <th>8</th>\n",
       "      <td>Telabastagan, San Fernando</td>\n",
       "      <td>240.0</td>\n",
       "      <td>440.0</td>\n",
       "      <td>4.0</td>\n",
       "      <td>5.0</td>\n",
       "      <td>19700000.0</td>\n",
       "      <td>82083.333333</td>\n",
       "    </tr>\n",
       "    <tr>\n",
       "      <th>10</th>\n",
       "      <td>Ayala Alabang, Muntinlupa</td>\n",
       "      <td>570.0</td>\n",
       "      <td>900.0</td>\n",
       "      <td>6.0</td>\n",
       "      <td>6.0</td>\n",
       "      <td>235000000.0</td>\n",
       "      <td>412280.701754</td>\n",
       "    </tr>\n",
       "    <tr>\n",
       "      <th>19</th>\n",
       "      <td>San Roque, Paombong</td>\n",
       "      <td>80.0</td>\n",
       "      <td>85.0</td>\n",
       "      <td>3.0</td>\n",
       "      <td>2.0</td>\n",
       "      <td>4100000.0</td>\n",
       "      <td>51250.000000</td>\n",
       "    </tr>\n",
       "  </tbody>\n",
       "</table>\n",
       "</div>"
      ],
      "text/plain": [
       "                      Location  Land Size(M2)  Building Size(M2)  Bedrooms  \\\n",
       "1        Sapang Maisac, Mexico          101.0               60.0       3.0   \n",
       "2      Catalunan Grande, Davao          100.0               75.0       3.0   \n",
       "8   Telabastagan, San Fernando          240.0              440.0       4.0   \n",
       "10   Ayala Alabang, Muntinlupa          570.0              900.0       6.0   \n",
       "19         San Roque, Paombong           80.0               85.0       3.0   \n",
       "\n",
       "    Bathrooms   Price(Php)  price_per_sqm  \n",
       "1         2.0    3700000.0   36633.663366  \n",
       "2         2.0    3790000.0   37900.000000  \n",
       "8         5.0   19700000.0   82083.333333  \n",
       "10        6.0  235000000.0  412280.701754  \n",
       "19        2.0    4100000.0   51250.000000  "
      ]
     },
     "execution_count": 27,
     "metadata": {},
     "output_type": "execute_result"
    }
   ],
   "source": [
    "df6['Land Size(M2)'] = pd.to_numeric(df6['Land Size(M2)'], errors='coerce')\n",
    "df6['Building Size(M2)'] = pd.to_numeric(df6['Building Size(M2)'], errors='coerce')\n",
    "df6['Bedrooms'] = pd.to_numeric(df6['Bedrooms'], errors='coerce')\n",
    "df6['Bathrooms'] = pd.to_numeric(df6['Bathrooms'], errors='coerce')\n",
    "df6['Price(Php)'] = pd.to_numeric(df6['Price(Php)'], errors='coerce')\n",
    "df6['price_per_sqm'] = df6['Price(Php)']/df6['Land Size(M2)']\n",
    "df6.head()"
   ]
  },
  {
   "cell_type": "code",
   "execution_count": 28,
   "id": "0adcbe0a",
   "metadata": {},
   "outputs": [
    {
     "data": {
      "text/html": [
       "<div>\n",
       "<style scoped>\n",
       "    .dataframe tbody tr th:only-of-type {\n",
       "        vertical-align: middle;\n",
       "    }\n",
       "\n",
       "    .dataframe tbody tr th {\n",
       "        vertical-align: top;\n",
       "    }\n",
       "\n",
       "    .dataframe thead th {\n",
       "        text-align: right;\n",
       "    }\n",
       "</style>\n",
       "<table border=\"1\" class=\"dataframe\">\n",
       "  <thead>\n",
       "    <tr style=\"text-align: right;\">\n",
       "      <th></th>\n",
       "      <th>Location</th>\n",
       "      <th>Land Size(M2)</th>\n",
       "      <th>Bedrooms</th>\n",
       "      <th>Bathrooms</th>\n",
       "      <th>Price(Php)</th>\n",
       "      <th>price_per_sqm</th>\n",
       "    </tr>\n",
       "  </thead>\n",
       "  <tbody>\n",
       "    <tr>\n",
       "      <th>1</th>\n",
       "      <td>Sapang Maisac, Mexico</td>\n",
       "      <td>101.0</td>\n",
       "      <td>3.0</td>\n",
       "      <td>2.0</td>\n",
       "      <td>3700000.0</td>\n",
       "      <td>36633.663366</td>\n",
       "    </tr>\n",
       "    <tr>\n",
       "      <th>2</th>\n",
       "      <td>Catalunan Grande, Davao</td>\n",
       "      <td>100.0</td>\n",
       "      <td>3.0</td>\n",
       "      <td>2.0</td>\n",
       "      <td>3790000.0</td>\n",
       "      <td>37900.000000</td>\n",
       "    </tr>\n",
       "    <tr>\n",
       "      <th>8</th>\n",
       "      <td>Telabastagan, San Fernando</td>\n",
       "      <td>240.0</td>\n",
       "      <td>4.0</td>\n",
       "      <td>5.0</td>\n",
       "      <td>19700000.0</td>\n",
       "      <td>82083.333333</td>\n",
       "    </tr>\n",
       "    <tr>\n",
       "      <th>10</th>\n",
       "      <td>Ayala Alabang, Muntinlupa</td>\n",
       "      <td>570.0</td>\n",
       "      <td>6.0</td>\n",
       "      <td>6.0</td>\n",
       "      <td>235000000.0</td>\n",
       "      <td>412280.701754</td>\n",
       "    </tr>\n",
       "    <tr>\n",
       "      <th>19</th>\n",
       "      <td>San Roque, Paombong</td>\n",
       "      <td>80.0</td>\n",
       "      <td>3.0</td>\n",
       "      <td>2.0</td>\n",
       "      <td>4100000.0</td>\n",
       "      <td>51250.000000</td>\n",
       "    </tr>\n",
       "  </tbody>\n",
       "</table>\n",
       "</div>"
      ],
      "text/plain": [
       "                      Location  Land Size(M2)  Bedrooms  Bathrooms  \\\n",
       "1        Sapang Maisac, Mexico          101.0       3.0        2.0   \n",
       "2      Catalunan Grande, Davao          100.0       3.0        2.0   \n",
       "8   Telabastagan, San Fernando          240.0       4.0        5.0   \n",
       "10   Ayala Alabang, Muntinlupa          570.0       6.0        6.0   \n",
       "19         San Roque, Paombong           80.0       3.0        2.0   \n",
       "\n",
       "     Price(Php)  price_per_sqm  \n",
       "1     3700000.0   36633.663366  \n",
       "2     3790000.0   37900.000000  \n",
       "8    19700000.0   82083.333333  \n",
       "10  235000000.0  412280.701754  \n",
       "19    4100000.0   51250.000000  "
      ]
     },
     "execution_count": 28,
     "metadata": {},
     "output_type": "execute_result"
    }
   ],
   "source": [
    "df6 = df6.drop(['Building Size(M2)'], axis='columns')\n",
    "df6.head()"
   ]
  },
  {
   "cell_type": "code",
   "execution_count": 29,
   "id": "aa601164",
   "metadata": {},
   "outputs": [
    {
     "data": {
      "text/html": [
       "<div>\n",
       "<style scoped>\n",
       "    .dataframe tbody tr th:only-of-type {\n",
       "        vertical-align: middle;\n",
       "    }\n",
       "\n",
       "    .dataframe tbody tr th {\n",
       "        vertical-align: top;\n",
       "    }\n",
       "\n",
       "    .dataframe thead th {\n",
       "        text-align: right;\n",
       "    }\n",
       "</style>\n",
       "<table border=\"1\" class=\"dataframe\">\n",
       "  <thead>\n",
       "    <tr style=\"text-align: right;\">\n",
       "      <th></th>\n",
       "      <th>Location</th>\n",
       "      <th>land_size_sqm</th>\n",
       "      <th>Bedrooms</th>\n",
       "      <th>Bathrooms</th>\n",
       "      <th>Price(Php)</th>\n",
       "      <th>price_per_sqm</th>\n",
       "    </tr>\n",
       "  </thead>\n",
       "  <tbody>\n",
       "    <tr>\n",
       "      <th>1</th>\n",
       "      <td>Sapang Maisac, Mexico</td>\n",
       "      <td>101.0</td>\n",
       "      <td>3.0</td>\n",
       "      <td>2.0</td>\n",
       "      <td>3700000.0</td>\n",
       "      <td>36633.663366</td>\n",
       "    </tr>\n",
       "    <tr>\n",
       "      <th>2</th>\n",
       "      <td>Catalunan Grande, Davao</td>\n",
       "      <td>100.0</td>\n",
       "      <td>3.0</td>\n",
       "      <td>2.0</td>\n",
       "      <td>3790000.0</td>\n",
       "      <td>37900.000000</td>\n",
       "    </tr>\n",
       "    <tr>\n",
       "      <th>8</th>\n",
       "      <td>Telabastagan, San Fernando</td>\n",
       "      <td>240.0</td>\n",
       "      <td>4.0</td>\n",
       "      <td>5.0</td>\n",
       "      <td>19700000.0</td>\n",
       "      <td>82083.333333</td>\n",
       "    </tr>\n",
       "    <tr>\n",
       "      <th>10</th>\n",
       "      <td>Ayala Alabang, Muntinlupa</td>\n",
       "      <td>570.0</td>\n",
       "      <td>6.0</td>\n",
       "      <td>6.0</td>\n",
       "      <td>235000000.0</td>\n",
       "      <td>412280.701754</td>\n",
       "    </tr>\n",
       "    <tr>\n",
       "      <th>19</th>\n",
       "      <td>San Roque, Paombong</td>\n",
       "      <td>80.0</td>\n",
       "      <td>3.0</td>\n",
       "      <td>2.0</td>\n",
       "      <td>4100000.0</td>\n",
       "      <td>51250.000000</td>\n",
       "    </tr>\n",
       "  </tbody>\n",
       "</table>\n",
       "</div>"
      ],
      "text/plain": [
       "                      Location  land_size_sqm  Bedrooms  Bathrooms  \\\n",
       "1        Sapang Maisac, Mexico          101.0       3.0        2.0   \n",
       "2      Catalunan Grande, Davao          100.0       3.0        2.0   \n",
       "8   Telabastagan, San Fernando          240.0       4.0        5.0   \n",
       "10   Ayala Alabang, Muntinlupa          570.0       6.0        6.0   \n",
       "19         San Roque, Paombong           80.0       3.0        2.0   \n",
       "\n",
       "     Price(Php)  price_per_sqm  \n",
       "1     3700000.0   36633.663366  \n",
       "2     3790000.0   37900.000000  \n",
       "8    19700000.0   82083.333333  \n",
       "10  235000000.0  412280.701754  \n",
       "19    4100000.0   51250.000000  "
      ]
     },
     "execution_count": 29,
     "metadata": {},
     "output_type": "execute_result"
    }
   ],
   "source": [
    "df6.rename(columns={'Land Size(M2)': 'land_size_sqm'}, inplace=True)\n",
    "df6.head()"
   ]
  },
  {
   "cell_type": "code",
   "execution_count": 30,
   "id": "489eb16a",
   "metadata": {},
   "outputs": [
    {
     "data": {
      "text/plain": [
       "376"
      ]
     },
     "execution_count": 30,
     "metadata": {},
     "output_type": "execute_result"
    }
   ],
   "source": [
    "# show how many unique values from the column 'Location'\n",
    "len(df6.Location.unique())"
   ]
  },
  {
   "cell_type": "code",
   "execution_count": 31,
   "id": "ba720f3b",
   "metadata": {},
   "outputs": [
    {
     "data": {
      "text/plain": [
       "(975, 6)"
      ]
     },
     "execution_count": 31,
     "metadata": {},
     "output_type": "execute_result"
    }
   ],
   "source": [
    "df6.shape"
   ]
  },
  {
   "cell_type": "code",
   "execution_count": 32,
   "id": "6c93fb6e",
   "metadata": {},
   "outputs": [
    {
     "data": {
      "text/plain": [
       "Location\n",
       "B.F. Homes, Paranaque         39\n",
       "Talon Dos, Las Pinas          25\n",
       "Pilar, Las Pinas              24\n",
       "Almanza Dos, Las Pinas        20\n",
       "Ayala Alabang, Muntinlupa     19\n",
       "                              ..\n",
       "Cararayan, Naga                1\n",
       "Capitol Subdivision, Pasig     1\n",
       "Guinsay, Danao                 1\n",
       "Capitangan, Abucay             1\n",
       "Calulut, San Fernando          1\n",
       "Name: Location, Length: 376, dtype: int64"
      ]
     },
     "execution_count": 32,
     "metadata": {},
     "output_type": "execute_result"
    }
   ],
   "source": [
    "# use lambda function to remove trailing and leading whitespaces return back \n",
    "# value to the column\n",
    "df6.Location = df6.Location.apply(lambda x: x.strip())\n",
    "\n",
    "# group the unique location and apply aggregate function with arg count \n",
    "# that calculate the total occurence of the unique location in the column\n",
    "location_stats = df6.groupby('Location')['Location'].agg('count').sort_values(ascending=False)\n",
    "location_stats"
   ]
  },
  {
   "cell_type": "code",
   "execution_count": 33,
   "id": "667908b6",
   "metadata": {},
   "outputs": [
    {
     "data": {
      "text/plain": [
       "(376,)"
      ]
     },
     "execution_count": 33,
     "metadata": {},
     "output_type": "execute_result"
    }
   ],
   "source": [
    "location_stats.shape"
   ]
  },
  {
   "cell_type": "code",
   "execution_count": 34,
   "id": "466e0141",
   "metadata": {},
   "outputs": [
    {
     "data": {
      "text/plain": [
       "Location\n",
       "B.F. Homes, Paranaque         39\n",
       "Talon Dos, Las Pinas          25\n",
       "Pilar, Las Pinas              24\n",
       "Almanza Dos, Las Pinas        20\n",
       "Ayala Alabang, Muntinlupa     19\n",
       "                              ..\n",
       "Cararayan, Naga                1\n",
       "Capitol Subdivision, Pasig     1\n",
       "Guinsay, Danao                 1\n",
       "Capitangan, Abucay             1\n",
       "Calulut, San Fernando          1\n",
       "Name: Location, Length: 376, dtype: int64"
      ]
     },
     "execution_count": 34,
     "metadata": {},
     "output_type": "execute_result"
    }
   ],
   "source": [
    "location_stats.head(376)"
   ]
  },
  {
   "cell_type": "code",
   "execution_count": 35,
   "id": "0112d285",
   "metadata": {},
   "outputs": [
    {
     "data": {
      "text/plain": [
       "365"
      ]
     },
     "execution_count": 35,
     "metadata": {},
     "output_type": "execute_result"
    }
   ],
   "source": [
    "len(location_stats[location_stats<=10])"
   ]
  },
  {
   "cell_type": "code",
   "execution_count": 36,
   "id": "b93164c2",
   "metadata": {},
   "outputs": [
    {
     "data": {
      "text/plain": [
       "Location\n",
       "Commonwealth, Quezon City     9\n",
       "Poblacion, Muntinlupa         9\n",
       "Alabang, Muntinlupa           9\n",
       "Molino III, Bacoor            9\n",
       "Talon Kuatro, Las Pinas       8\n",
       "                             ..\n",
       "Cararayan, Naga               1\n",
       "Capitol Subdivision, Pasig    1\n",
       "Guinsay, Danao                1\n",
       "Capitangan, Abucay            1\n",
       "Calulut, San Fernando         1\n",
       "Name: Location, Length: 365, dtype: int64"
      ]
     },
     "execution_count": 36,
     "metadata": {},
     "output_type": "execute_result"
    }
   ],
   "source": [
    "location_stats_less_than_10 = location_stats[location_stats<=10]\n",
    "location_stats_less_than_10"
   ]
  },
  {
   "cell_type": "code",
   "execution_count": 37,
   "id": "4d2060f2",
   "metadata": {},
   "outputs": [
    {
     "data": {
      "text/plain": [
       "376"
      ]
     },
     "execution_count": 37,
     "metadata": {},
     "output_type": "execute_result"
    }
   ],
   "source": [
    "len(df6.Location.unique())"
   ]
  },
  {
   "cell_type": "code",
   "execution_count": 38,
   "id": "ab499e25",
   "metadata": {},
   "outputs": [
    {
     "name": "stderr",
     "output_type": "stream",
     "text": [
      "C:\\Users\\Gregs\\AppData\\Local\\Temp\\ipykernel_14388\\2906193327.py:1: UserWarning: Pandas doesn't allow columns to be created via a new attribute name - see https://pandas.pydata.org/pandas-docs/stable/indexing.html#attribute-access\n",
      "  df6.location = df6.Location.apply(lambda x: 'other' if x in location_stats_less_than_10 else x)\n"
     ]
    },
    {
     "data": {
      "text/plain": [
       "12"
      ]
     },
     "execution_count": 38,
     "metadata": {},
     "output_type": "execute_result"
    }
   ],
   "source": [
    "df6.location = df6.Location.apply(lambda x: 'other' if x in location_stats_less_than_10 else x)\n",
    "len(df6.location.unique())"
   ]
  },
  {
   "cell_type": "code",
   "execution_count": 39,
   "id": "606e3e1c",
   "metadata": {},
   "outputs": [
    {
     "data": {
      "text/plain": [
       "1                         other\n",
       "2                         other\n",
       "8                         other\n",
       "10    Ayala Alabang, Muntinlupa\n",
       "19                        other\n",
       "Name: Location, dtype: object"
      ]
     },
     "execution_count": 39,
     "metadata": {},
     "output_type": "execute_result"
    }
   ],
   "source": [
    "df6.location.head()"
   ]
  },
  {
   "cell_type": "code",
   "execution_count": 40,
   "id": "6d1896ec",
   "metadata": {},
   "outputs": [
    {
     "data": {
      "text/plain": [
       "Location\n",
       "Commonwealth, Quezon City     9\n",
       "Poblacion, Muntinlupa         9\n",
       "Alabang, Muntinlupa           9\n",
       "Molino III, Bacoor            9\n",
       "Talon Kuatro, Las Pinas       8\n",
       "                             ..\n",
       "Cararayan, Naga               1\n",
       "Capitol Subdivision, Pasig    1\n",
       "Guinsay, Danao                1\n",
       "Capitangan, Abucay            1\n",
       "Calulut, San Fernando         1\n",
       "Name: Location, Length: 365, dtype: int64"
      ]
     },
     "execution_count": 40,
     "metadata": {},
     "output_type": "execute_result"
    }
   ],
   "source": [
    "location_stats_less_than_10"
   ]
  },
  {
   "cell_type": "code",
   "execution_count": 41,
   "id": "d5146d83",
   "metadata": {},
   "outputs": [
    {
     "data": {
      "text/plain": [
       "array(['other', 'Ayala Alabang, Muntinlupa', 'Almanza Dos, Las Pinas',\n",
       "       'Talon Dos, Las Pinas', 'B.F. Homes, Paranaque',\n",
       "       'Talon Singko, Las Pinas', 'Pilar, Las Pinas',\n",
       "       'San Isidro, Cainta', 'Don Bosco, Paranaque',\n",
       "       'Matandang Balara, Quezon City', 'Molino IV, Bacoor',\n",
       "       'Merville, Paranaque'], dtype=object)"
      ]
     },
     "execution_count": 41,
     "metadata": {},
     "output_type": "execute_result"
    }
   ],
   "source": [
    "df6.location.unique()"
   ]
  },
  {
   "cell_type": "code",
   "execution_count": 42,
   "id": "e44e5a44",
   "metadata": {},
   "outputs": [
    {
     "data": {
      "text/html": [
       "<div>\n",
       "<style scoped>\n",
       "    .dataframe tbody tr th:only-of-type {\n",
       "        vertical-align: middle;\n",
       "    }\n",
       "\n",
       "    .dataframe tbody tr th {\n",
       "        vertical-align: top;\n",
       "    }\n",
       "\n",
       "    .dataframe thead th {\n",
       "        text-align: right;\n",
       "    }\n",
       "</style>\n",
       "<table border=\"1\" class=\"dataframe\">\n",
       "  <thead>\n",
       "    <tr style=\"text-align: right;\">\n",
       "      <th></th>\n",
       "      <th>Location</th>\n",
       "      <th>land_size_sqm</th>\n",
       "      <th>Bedrooms</th>\n",
       "      <th>Bathrooms</th>\n",
       "      <th>Price(Php)</th>\n",
       "      <th>price_per_sqm</th>\n",
       "    </tr>\n",
       "  </thead>\n",
       "  <tbody>\n",
       "    <tr>\n",
       "      <th>1</th>\n",
       "      <td>Sapang Maisac, Mexico</td>\n",
       "      <td>101.0</td>\n",
       "      <td>3.0</td>\n",
       "      <td>2.0</td>\n",
       "      <td>3700000.0</td>\n",
       "      <td>36633.663366</td>\n",
       "    </tr>\n",
       "    <tr>\n",
       "      <th>2</th>\n",
       "      <td>Catalunan Grande, Davao</td>\n",
       "      <td>100.0</td>\n",
       "      <td>3.0</td>\n",
       "      <td>2.0</td>\n",
       "      <td>3790000.0</td>\n",
       "      <td>37900.000000</td>\n",
       "    </tr>\n",
       "    <tr>\n",
       "      <th>8</th>\n",
       "      <td>Telabastagan, San Fernando</td>\n",
       "      <td>240.0</td>\n",
       "      <td>4.0</td>\n",
       "      <td>5.0</td>\n",
       "      <td>19700000.0</td>\n",
       "      <td>82083.333333</td>\n",
       "    </tr>\n",
       "    <tr>\n",
       "      <th>10</th>\n",
       "      <td>Ayala Alabang, Muntinlupa</td>\n",
       "      <td>570.0</td>\n",
       "      <td>6.0</td>\n",
       "      <td>6.0</td>\n",
       "      <td>235000000.0</td>\n",
       "      <td>412280.701754</td>\n",
       "    </tr>\n",
       "    <tr>\n",
       "      <th>19</th>\n",
       "      <td>San Roque, Paombong</td>\n",
       "      <td>80.0</td>\n",
       "      <td>3.0</td>\n",
       "      <td>2.0</td>\n",
       "      <td>4100000.0</td>\n",
       "      <td>51250.000000</td>\n",
       "    </tr>\n",
       "  </tbody>\n",
       "</table>\n",
       "</div>"
      ],
      "text/plain": [
       "                      Location  land_size_sqm  Bedrooms  Bathrooms  \\\n",
       "1        Sapang Maisac, Mexico          101.0       3.0        2.0   \n",
       "2      Catalunan Grande, Davao          100.0       3.0        2.0   \n",
       "8   Telabastagan, San Fernando          240.0       4.0        5.0   \n",
       "10   Ayala Alabang, Muntinlupa          570.0       6.0        6.0   \n",
       "19         San Roque, Paombong           80.0       3.0        2.0   \n",
       "\n",
       "     Price(Php)  price_per_sqm  \n",
       "1     3700000.0   36633.663366  \n",
       "2     3790000.0   37900.000000  \n",
       "8    19700000.0   82083.333333  \n",
       "10  235000000.0  412280.701754  \n",
       "19    4100000.0   51250.000000  "
      ]
     },
     "execution_count": 42,
     "metadata": {},
     "output_type": "execute_result"
    }
   ],
   "source": [
    "df6.head(5)"
   ]
  },
  {
   "cell_type": "code",
   "execution_count": 43,
   "id": "14743da1",
   "metadata": {},
   "outputs": [
    {
     "data": {
      "text/plain": [
       "12"
      ]
     },
     "execution_count": 43,
     "metadata": {},
     "output_type": "execute_result"
    }
   ],
   "source": [
    "df6.Location = df6.Location.apply(lambda x: 'other' if x in location_stats_less_than_10 else x)\n",
    "len(df6.location.unique())"
   ]
  },
  {
   "cell_type": "code",
   "execution_count": 44,
   "id": "2e775249",
   "metadata": {},
   "outputs": [
    {
     "data": {
      "text/html": [
       "<div>\n",
       "<style scoped>\n",
       "    .dataframe tbody tr th:only-of-type {\n",
       "        vertical-align: middle;\n",
       "    }\n",
       "\n",
       "    .dataframe tbody tr th {\n",
       "        vertical-align: top;\n",
       "    }\n",
       "\n",
       "    .dataframe thead th {\n",
       "        text-align: right;\n",
       "    }\n",
       "</style>\n",
       "<table border=\"1\" class=\"dataframe\">\n",
       "  <thead>\n",
       "    <tr style=\"text-align: right;\">\n",
       "      <th></th>\n",
       "      <th>Location</th>\n",
       "      <th>land_size_sqm</th>\n",
       "      <th>Bedrooms</th>\n",
       "      <th>Bathrooms</th>\n",
       "      <th>Price(Php)</th>\n",
       "      <th>price_per_sqm</th>\n",
       "    </tr>\n",
       "  </thead>\n",
       "  <tbody>\n",
       "    <tr>\n",
       "      <th>1</th>\n",
       "      <td>other</td>\n",
       "      <td>101.0</td>\n",
       "      <td>3.0</td>\n",
       "      <td>2.0</td>\n",
       "      <td>3700000.0</td>\n",
       "      <td>36633.663366</td>\n",
       "    </tr>\n",
       "    <tr>\n",
       "      <th>2</th>\n",
       "      <td>other</td>\n",
       "      <td>100.0</td>\n",
       "      <td>3.0</td>\n",
       "      <td>2.0</td>\n",
       "      <td>3790000.0</td>\n",
       "      <td>37900.000000</td>\n",
       "    </tr>\n",
       "    <tr>\n",
       "      <th>8</th>\n",
       "      <td>other</td>\n",
       "      <td>240.0</td>\n",
       "      <td>4.0</td>\n",
       "      <td>5.0</td>\n",
       "      <td>19700000.0</td>\n",
       "      <td>82083.333333</td>\n",
       "    </tr>\n",
       "    <tr>\n",
       "      <th>10</th>\n",
       "      <td>Ayala Alabang, Muntinlupa</td>\n",
       "      <td>570.0</td>\n",
       "      <td>6.0</td>\n",
       "      <td>6.0</td>\n",
       "      <td>235000000.0</td>\n",
       "      <td>412280.701754</td>\n",
       "    </tr>\n",
       "    <tr>\n",
       "      <th>19</th>\n",
       "      <td>other</td>\n",
       "      <td>80.0</td>\n",
       "      <td>3.0</td>\n",
       "      <td>2.0</td>\n",
       "      <td>4100000.0</td>\n",
       "      <td>51250.000000</td>\n",
       "    </tr>\n",
       "  </tbody>\n",
       "</table>\n",
       "</div>"
      ],
      "text/plain": [
       "                     Location  land_size_sqm  Bedrooms  Bathrooms  \\\n",
       "1                       other          101.0       3.0        2.0   \n",
       "2                       other          100.0       3.0        2.0   \n",
       "8                       other          240.0       4.0        5.0   \n",
       "10  Ayala Alabang, Muntinlupa          570.0       6.0        6.0   \n",
       "19                      other           80.0       3.0        2.0   \n",
       "\n",
       "     Price(Php)  price_per_sqm  \n",
       "1     3700000.0   36633.663366  \n",
       "2     3790000.0   37900.000000  \n",
       "8    19700000.0   82083.333333  \n",
       "10  235000000.0  412280.701754  \n",
       "19    4100000.0   51250.000000  "
      ]
     },
     "execution_count": 44,
     "metadata": {},
     "output_type": "execute_result"
    }
   ],
   "source": [
    "df6.head(5)"
   ]
  },
  {
   "cell_type": "markdown",
   "id": "7771fdf9",
   "metadata": {},
   "source": [
    "# Outlier detection and removal"
   ]
  },
  {
   "cell_type": "code",
   "execution_count": 45,
   "id": "627ca479",
   "metadata": {},
   "outputs": [
    {
     "data": {
      "text/html": [
       "<div>\n",
       "<style scoped>\n",
       "    .dataframe tbody tr th:only-of-type {\n",
       "        vertical-align: middle;\n",
       "    }\n",
       "\n",
       "    .dataframe tbody tr th {\n",
       "        vertical-align: top;\n",
       "    }\n",
       "\n",
       "    .dataframe thead th {\n",
       "        text-align: right;\n",
       "    }\n",
       "</style>\n",
       "<table border=\"1\" class=\"dataframe\">\n",
       "  <thead>\n",
       "    <tr style=\"text-align: right;\">\n",
       "      <th></th>\n",
       "      <th>Location</th>\n",
       "      <th>land_size_sqm</th>\n",
       "      <th>Bedrooms</th>\n",
       "      <th>Bathrooms</th>\n",
       "      <th>Price(Php)</th>\n",
       "      <th>price_per_sqm</th>\n",
       "    </tr>\n",
       "  </thead>\n",
       "  <tbody>\n",
       "    <tr>\n",
       "      <th>1</th>\n",
       "      <td>other</td>\n",
       "      <td>101.0</td>\n",
       "      <td>3.0</td>\n",
       "      <td>2.0</td>\n",
       "      <td>3700000.0</td>\n",
       "      <td>36633.663366</td>\n",
       "    </tr>\n",
       "    <tr>\n",
       "      <th>2</th>\n",
       "      <td>other</td>\n",
       "      <td>100.0</td>\n",
       "      <td>3.0</td>\n",
       "      <td>2.0</td>\n",
       "      <td>3790000.0</td>\n",
       "      <td>37900.000000</td>\n",
       "    </tr>\n",
       "    <tr>\n",
       "      <th>8</th>\n",
       "      <td>other</td>\n",
       "      <td>240.0</td>\n",
       "      <td>4.0</td>\n",
       "      <td>5.0</td>\n",
       "      <td>19700000.0</td>\n",
       "      <td>82083.333333</td>\n",
       "    </tr>\n",
       "    <tr>\n",
       "      <th>10</th>\n",
       "      <td>Ayala Alabang, Muntinlupa</td>\n",
       "      <td>570.0</td>\n",
       "      <td>6.0</td>\n",
       "      <td>6.0</td>\n",
       "      <td>235000000.0</td>\n",
       "      <td>412280.701754</td>\n",
       "    </tr>\n",
       "    <tr>\n",
       "      <th>19</th>\n",
       "      <td>other</td>\n",
       "      <td>80.0</td>\n",
       "      <td>3.0</td>\n",
       "      <td>2.0</td>\n",
       "      <td>4100000.0</td>\n",
       "      <td>51250.000000</td>\n",
       "    </tr>\n",
       "  </tbody>\n",
       "</table>\n",
       "</div>"
      ],
      "text/plain": [
       "                     Location  land_size_sqm  Bedrooms  Bathrooms  \\\n",
       "1                       other          101.0       3.0        2.0   \n",
       "2                       other          100.0       3.0        2.0   \n",
       "8                       other          240.0       4.0        5.0   \n",
       "10  Ayala Alabang, Muntinlupa          570.0       6.0        6.0   \n",
       "19                      other           80.0       3.0        2.0   \n",
       "\n",
       "     Price(Php)  price_per_sqm  \n",
       "1     3700000.0   36633.663366  \n",
       "2     3790000.0   37900.000000  \n",
       "8    19700000.0   82083.333333  \n",
       "10  235000000.0  412280.701754  \n",
       "19    4100000.0   51250.000000  "
      ]
     },
     "execution_count": 45,
     "metadata": {},
     "output_type": "execute_result"
    }
   ],
   "source": [
    "df6.head()"
   ]
  },
  {
   "cell_type": "code",
   "execution_count": 46,
   "id": "75435979",
   "metadata": {},
   "outputs": [
    {
     "data": {
      "text/html": [
       "<div>\n",
       "<style scoped>\n",
       "    .dataframe tbody tr th:only-of-type {\n",
       "        vertical-align: middle;\n",
       "    }\n",
       "\n",
       "    .dataframe tbody tr th {\n",
       "        vertical-align: top;\n",
       "    }\n",
       "\n",
       "    .dataframe thead th {\n",
       "        text-align: right;\n",
       "    }\n",
       "</style>\n",
       "<table border=\"1\" class=\"dataframe\">\n",
       "  <thead>\n",
       "    <tr style=\"text-align: right;\">\n",
       "      <th></th>\n",
       "      <th>Location</th>\n",
       "      <th>land_size_sqm</th>\n",
       "      <th>Bedrooms</th>\n",
       "      <th>Bathrooms</th>\n",
       "      <th>Price(Php)</th>\n",
       "      <th>price_per_sqm</th>\n",
       "    </tr>\n",
       "  </thead>\n",
       "  <tbody>\n",
       "    <tr>\n",
       "      <th>1687</th>\n",
       "      <td>other</td>\n",
       "      <td>36.00</td>\n",
       "      <td>4.0</td>\n",
       "      <td>1.0</td>\n",
       "      <td>2000000.0</td>\n",
       "      <td>55555.555556</td>\n",
       "    </tr>\n",
       "    <tr>\n",
       "      <th>2887</th>\n",
       "      <td>other</td>\n",
       "      <td>25.76</td>\n",
       "      <td>3.0</td>\n",
       "      <td>3.0</td>\n",
       "      <td>8800000.0</td>\n",
       "      <td>341614.906832</td>\n",
       "    </tr>\n",
       "  </tbody>\n",
       "</table>\n",
       "</div>"
      ],
      "text/plain": [
       "     Location  land_size_sqm  Bedrooms  Bathrooms  Price(Php)  price_per_sqm\n",
       "1687    other          36.00       4.0        1.0   2000000.0   55555.555556\n",
       "2887    other          25.76       3.0        3.0   8800000.0  341614.906832"
      ]
     },
     "execution_count": 46,
     "metadata": {},
     "output_type": "execute_result"
    }
   ],
   "source": [
    "df6[df6.land_size_sqm/df6.Bedrooms <10].head()"
   ]
  },
  {
   "cell_type": "code",
   "execution_count": 47,
   "id": "22d432a6",
   "metadata": {},
   "outputs": [
    {
     "data": {
      "text/plain": [
       "(975, 6)"
      ]
     },
     "execution_count": 47,
     "metadata": {},
     "output_type": "execute_result"
    }
   ],
   "source": [
    "df6.shape"
   ]
  },
  {
   "cell_type": "code",
   "execution_count": 48,
   "id": "5cfa5085",
   "metadata": {},
   "outputs": [
    {
     "data": {
      "text/plain": [
       "(973, 6)"
      ]
     },
     "execution_count": 48,
     "metadata": {},
     "output_type": "execute_result"
    }
   ],
   "source": [
    "# filter properties with standard bedroom area of 10sqm\n",
    "df7 = df6[~(df6.land_size_sqm/df6.Bedrooms <10)]\n",
    "df7.shape"
   ]
  },
  {
   "cell_type": "code",
   "execution_count": 49,
   "id": "d9bce4cf",
   "metadata": {},
   "outputs": [
    {
     "data": {
      "text/html": [
       "<div>\n",
       "<style scoped>\n",
       "    .dataframe tbody tr th:only-of-type {\n",
       "        vertical-align: middle;\n",
       "    }\n",
       "\n",
       "    .dataframe tbody tr th {\n",
       "        vertical-align: top;\n",
       "    }\n",
       "\n",
       "    .dataframe thead th {\n",
       "        text-align: right;\n",
       "    }\n",
       "</style>\n",
       "<table border=\"1\" class=\"dataframe\">\n",
       "  <thead>\n",
       "    <tr style=\"text-align: right;\">\n",
       "      <th></th>\n",
       "      <th>Location</th>\n",
       "      <th>land_size_sqm</th>\n",
       "      <th>Bedrooms</th>\n",
       "      <th>Bathrooms</th>\n",
       "      <th>Price(Php)</th>\n",
       "      <th>price_per_sqm</th>\n",
       "    </tr>\n",
       "  </thead>\n",
       "  <tbody>\n",
       "    <tr>\n",
       "      <th>1</th>\n",
       "      <td>other</td>\n",
       "      <td>101.0</td>\n",
       "      <td>3.0</td>\n",
       "      <td>2.0</td>\n",
       "      <td>3700000.0</td>\n",
       "      <td>36633.663366</td>\n",
       "    </tr>\n",
       "    <tr>\n",
       "      <th>2</th>\n",
       "      <td>other</td>\n",
       "      <td>100.0</td>\n",
       "      <td>3.0</td>\n",
       "      <td>2.0</td>\n",
       "      <td>3790000.0</td>\n",
       "      <td>37900.000000</td>\n",
       "    </tr>\n",
       "    <tr>\n",
       "      <th>8</th>\n",
       "      <td>other</td>\n",
       "      <td>240.0</td>\n",
       "      <td>4.0</td>\n",
       "      <td>5.0</td>\n",
       "      <td>19700000.0</td>\n",
       "      <td>82083.333333</td>\n",
       "    </tr>\n",
       "    <tr>\n",
       "      <th>10</th>\n",
       "      <td>Ayala Alabang, Muntinlupa</td>\n",
       "      <td>570.0</td>\n",
       "      <td>6.0</td>\n",
       "      <td>6.0</td>\n",
       "      <td>235000000.0</td>\n",
       "      <td>412280.701754</td>\n",
       "    </tr>\n",
       "    <tr>\n",
       "      <th>19</th>\n",
       "      <td>other</td>\n",
       "      <td>80.0</td>\n",
       "      <td>3.0</td>\n",
       "      <td>2.0</td>\n",
       "      <td>4100000.0</td>\n",
       "      <td>51250.000000</td>\n",
       "    </tr>\n",
       "  </tbody>\n",
       "</table>\n",
       "</div>"
      ],
      "text/plain": [
       "                     Location  land_size_sqm  Bedrooms  Bathrooms  \\\n",
       "1                       other          101.0       3.0        2.0   \n",
       "2                       other          100.0       3.0        2.0   \n",
       "8                       other          240.0       4.0        5.0   \n",
       "10  Ayala Alabang, Muntinlupa          570.0       6.0        6.0   \n",
       "19                      other           80.0       3.0        2.0   \n",
       "\n",
       "     Price(Php)  price_per_sqm  \n",
       "1     3700000.0   36633.663366  \n",
       "2     3790000.0   37900.000000  \n",
       "8    19700000.0   82083.333333  \n",
       "10  235000000.0  412280.701754  \n",
       "19    4100000.0   51250.000000  "
      ]
     },
     "execution_count": 49,
     "metadata": {},
     "output_type": "execute_result"
    }
   ],
   "source": [
    "df7.head()"
   ]
  },
  {
   "cell_type": "code",
   "execution_count": 50,
   "id": "718d73f8",
   "metadata": {},
   "outputs": [
    {
     "data": {
      "text/plain": [
       "count       973.000000\n",
       "mean     112794.634206\n",
       "std      104072.512258\n",
       "min        1873.360809\n",
       "25%       52500.000000\n",
       "50%       81695.906433\n",
       "75%      125000.000000\n",
       "max      741427.247451\n",
       "Name: price_per_sqm, dtype: float64"
      ]
     },
     "execution_count": 50,
     "metadata": {},
     "output_type": "execute_result"
    }
   ],
   "source": [
    "df7.price_per_sqm.describe()"
   ]
  },
  {
   "cell_type": "code",
   "execution_count": 51,
   "id": "526e7c06",
   "metadata": {
    "tags": []
   },
   "outputs": [
    {
     "data": {
      "text/plain": [
       "(820, 6)"
      ]
     },
     "execution_count": 51,
     "metadata": {},
     "output_type": "execute_result"
    }
   ],
   "source": [
    "# creating a function to remove outliers in column price_per_sqm\n",
    "def remove_pps_outliers(df):\n",
    "    df_out = pd.DataFrame()  # creating an empty dataframe\n",
    "    for key, subdf in df.groupby('Location'):  # df dataframe is grouped by 'Location' column, and for each group, the group \n",
    "                                               # key ('Location') and the corresponding subgroup 'subdf' are obtained\n",
    "        m = np.mean(subdf.price_per_sqm)  # calculate the mean within the subgroup created for column 'price_per_sqm'\n",
    "        st = np.std(subdf.price_per_sqm)  # calculate the standard deviation within the subgroup created for column 'price_per_sqm'\n",
    "        reduced_df = subdf[(subdf.price_per_sqm>(m-st)) & (subdf.price_per_sqm<=(m+st))]  # created new df by filtering rows\n",
    "                                                                                          # of the subgroupthe satisfy the cond..\n",
    "        df_out = pd.concat([df_out, reduced_df], ignore_index=True)  # link the empty df to the reduced_df and the df has continuous index\n",
    "    return df_out\n",
    "\n",
    "df8 = remove_pps_outliers(df7)\n",
    "df8.shape"
   ]
  },
  {
   "cell_type": "code",
   "execution_count": 52,
   "id": "a4ffa7df-5411-4206-9d0c-4c4255508f47",
   "metadata": {
    "tags": []
   },
   "outputs": [
    {
     "data": {
      "text/html": [
       "<div>\n",
       "<style scoped>\n",
       "    .dataframe tbody tr th:only-of-type {\n",
       "        vertical-align: middle;\n",
       "    }\n",
       "\n",
       "    .dataframe tbody tr th {\n",
       "        vertical-align: top;\n",
       "    }\n",
       "\n",
       "    .dataframe thead th {\n",
       "        text-align: right;\n",
       "    }\n",
       "</style>\n",
       "<table border=\"1\" class=\"dataframe\">\n",
       "  <thead>\n",
       "    <tr style=\"text-align: right;\">\n",
       "      <th></th>\n",
       "      <th>Location</th>\n",
       "      <th>land_size_sqm</th>\n",
       "      <th>Bedrooms</th>\n",
       "      <th>Bathrooms</th>\n",
       "      <th>Price(Php)</th>\n",
       "      <th>price_per_sqm</th>\n",
       "    </tr>\n",
       "  </thead>\n",
       "  <tbody>\n",
       "    <tr>\n",
       "      <th>0</th>\n",
       "      <td>Almanza Dos, Las Pinas</td>\n",
       "      <td>350.0</td>\n",
       "      <td>3.0</td>\n",
       "      <td>5.5</td>\n",
       "      <td>55000000.0</td>\n",
       "      <td>157142.857143</td>\n",
       "    </tr>\n",
       "    <tr>\n",
       "      <th>1</th>\n",
       "      <td>Almanza Dos, Las Pinas</td>\n",
       "      <td>467.0</td>\n",
       "      <td>3.0</td>\n",
       "      <td>5.0</td>\n",
       "      <td>65000000.0</td>\n",
       "      <td>139186.295503</td>\n",
       "    </tr>\n",
       "    <tr>\n",
       "      <th>2</th>\n",
       "      <td>Almanza Dos, Las Pinas</td>\n",
       "      <td>267.0</td>\n",
       "      <td>4.0</td>\n",
       "      <td>4.0</td>\n",
       "      <td>38003100.0</td>\n",
       "      <td>142333.707865</td>\n",
       "    </tr>\n",
       "    <tr>\n",
       "      <th>3</th>\n",
       "      <td>Almanza Dos, Las Pinas</td>\n",
       "      <td>120.0</td>\n",
       "      <td>3.0</td>\n",
       "      <td>2.0</td>\n",
       "      <td>18000000.0</td>\n",
       "      <td>150000.000000</td>\n",
       "    </tr>\n",
       "    <tr>\n",
       "      <th>4</th>\n",
       "      <td>Almanza Dos, Las Pinas</td>\n",
       "      <td>240.0</td>\n",
       "      <td>4.0</td>\n",
       "      <td>4.0</td>\n",
       "      <td>34242500.0</td>\n",
       "      <td>142677.083333</td>\n",
       "    </tr>\n",
       "  </tbody>\n",
       "</table>\n",
       "</div>"
      ],
      "text/plain": [
       "                 Location  land_size_sqm  Bedrooms  Bathrooms  Price(Php)  \\\n",
       "0  Almanza Dos, Las Pinas          350.0       3.0        5.5  55000000.0   \n",
       "1  Almanza Dos, Las Pinas          467.0       3.0        5.0  65000000.0   \n",
       "2  Almanza Dos, Las Pinas          267.0       4.0        4.0  38003100.0   \n",
       "3  Almanza Dos, Las Pinas          120.0       3.0        2.0  18000000.0   \n",
       "4  Almanza Dos, Las Pinas          240.0       4.0        4.0  34242500.0   \n",
       "\n",
       "   price_per_sqm  \n",
       "0  157142.857143  \n",
       "1  139186.295503  \n",
       "2  142333.707865  \n",
       "3  150000.000000  \n",
       "4  142677.083333  "
      ]
     },
     "execution_count": 52,
     "metadata": {},
     "output_type": "execute_result"
    }
   ],
   "source": [
    "df8.head()"
   ]
  },
  {
   "cell_type": "code",
   "execution_count": 53,
   "id": "eb02fbe4-2307-4aca-901a-2529f64c6544",
   "metadata": {
    "tags": []
   },
   "outputs": [
    {
     "data": {
      "text/plain": [
       "(820, 6)"
      ]
     },
     "execution_count": 53,
     "metadata": {},
     "output_type": "execute_result"
    }
   ],
   "source": [
    "df8.shape"
   ]
  },
  {
   "cell_type": "code",
   "execution_count": 54,
   "id": "d2995e2d-6249-4167-b7dd-c211c268a3f0",
   "metadata": {
    "tags": []
   },
   "outputs": [
    {
     "data": {
      "text/plain": [
       "Location\n",
       "Almanza Dos, Las Pinas            13\n",
       "Ayala Alabang, Muntinlupa         10\n",
       "B.F. Homes, Paranaque             25\n",
       "Don Bosco, Paranaque              12\n",
       "Matandang Balara, Quezon City      7\n",
       "Merville, Paranaque               13\n",
       "Molino IV, Bacoor                  7\n",
       "Pilar, Las Pinas                  17\n",
       "San Isidro, Cainta                11\n",
       "Talon Dos, Las Pinas              18\n",
       "Talon Singko, Las Pinas            9\n",
       "other                            678\n",
       "Name: Location, dtype: int64"
      ]
     },
     "execution_count": 54,
     "metadata": {},
     "output_type": "execute_result"
    }
   ],
   "source": [
    "df8.groupby('Location')['Location'].agg('count')"
   ]
  },
  {
   "cell_type": "code",
   "execution_count": 55,
   "id": "40c5edee",
   "metadata": {
    "tags": []
   },
   "outputs": [
    {
     "data": {
      "image/png": "[encoded data removed]",
      "text/plain": [
       "<Figure size 1000x500 with 1 Axes>"
      ]
     },
     "metadata": {},
     "output_type": "display_data"
    }
   ],
   "source": [
    "# creating a function to plot a scatter chart comparing the land_size_sqm with the price_per_sqm for specific location\n",
    "def plot_scatter_chart(df, Location):\n",
    "    br2 = df[(df.Location==Location) & (df.Bedrooms==2)]  # create new dataframe containing rows where location have bedrooms isequal to 2\n",
    "    br3 = df[(df.Location==Location) & (df.Bedrooms==3)]  # create new dataframe containing rows where location have bedrooms is equal to 3\n",
    "    matplotlib.rcParams['figure.figsize'] = (10,5)  # set the size of the figure for scatter plot in inches\n",
    "    plt.scatter(br2.land_size_sqm,br2.price_per_sqm,color='blue',label='2 Bedrooms', s=50)  # create scatter plots for properties with 2 bedrooms assigning color & label to differentiate the two category\n",
    "    plt.scatter(br3.land_size_sqm,br3.price_per_sqm,marker='+', color='green', label='3 Bedrooms', s=50) # create scatter plots for properties with 3 bedrooms assigning color, label, and marker to differentiate the two category\n",
    "    plt.xlabel(\"Total Square Meter Area\")  # assigning the y-axis label\n",
    "    plt.ylabel(\"Price Per Square Meter\")  # assigning the x-axis label\n",
    "    plt.title(Location)  # assigning the plot title\n",
    "    plt.legend()  # display the label on the plot to differentiate the two categories\n",
    "    \n",
    "plot_scatter_chart(df8, \"other\")"
   ]
  },
  {
   "cell_type": "code",
   "execution_count": 56,
   "id": "0ef4251f-6488-44e2-8946-012297c04292",
   "metadata": {
    "tags": []
   },
   "outputs": [
    {
     "data": {
      "text/plain": [
       "(558, 6)"
      ]
     },
     "execution_count": 56,
     "metadata": {},
     "output_type": "execute_result"
    }
   ],
   "source": [
    "#  create a function that removes outlier based on the price_per_sqm column considering the properties in different locations and with varying number of bedrooms\n",
    "def remove_br_outliers(df):\n",
    "    exclude_indices = np.array([])  # initialize an empty NumPy array which will be used to store rows indices of the Df  to be excluded or be considered outliers\n",
    "    for Location, location_df in df.groupby('Location'):  # group by location and then iterates through each group using for loop\n",
    "        br_stats = {}  # created a dictionary that stores calculated mean, standard deviation and count\n",
    "        for Bedrooms, br_df in location_df.groupby('Bedrooms'):  # iterate through each group of properties with the same number of bedrooms within each location using this loop\n",
    "            br_stats[Bedrooms] = {\n",
    "                'mean': np.mean(br_df.price_per_sqm),\n",
    "                'std': np.std(br_df.price_per_sqm),\n",
    "                'count': br_df.shape[0]\n",
    "            }\n",
    "        for Bedrooms, br_df in location_df.groupby('Bedrooms'):\n",
    "            stats = br_stats.get(Bedrooms-1)  # looking for statistics of properties with one less bedroom \n",
    "            if stats and stats['count']>5:  # check if there are at least 5 properties with that number of bedrooms\n",
    "                exclude_indices = np.append(exclude_indices, br_df[br_df.price_per_sqm<(stats['mean'])].index.values)  # if satisfied that put tp the excluded indices or outliers\n",
    "    return df.drop(exclude_indices,axis='index')  # dropping the rows that satisfies the condition\n",
    "df9 = remove_br_outliers(df8)\n",
    "df9.shape"
   ]
  },
  {
   "cell_type": "code",
   "execution_count": 57,
   "id": "b5548c51-fee2-4875-ad39-293111d548b0",
   "metadata": {
    "tags": []
   },
   "outputs": [
    {
     "data": {
      "image/png": "[encoded data removed]",
      "text/plain": [
       "<Figure size 1000x500 with 1 Axes>"
      ]
     },
     "metadata": {},
     "output_type": "display_data"
    }
   ],
   "source": [
    "plot_scatter_chart(df9, \"other\")"
   ]
  },
  {
   "cell_type": "code",
   "execution_count": 58,
   "id": "21334f40-c182-46eb-a4c3-e331b13b0af7",
   "metadata": {
    "tags": []
   },
   "outputs": [
    {
     "data": {
      "text/plain": [
       "Text(0, 0.5, 'Count')"
      ]
     },
     "execution_count": 58,
     "metadata": {},
     "output_type": "execute_result"
    },
    {
     "data": {
      "image/png": "[encoded data removed]",
      "text/plain": [
       "<Figure size 1000x500 with 1 Axes>"
      ]
     },
     "metadata": {},
     "output_type": "display_data"
    }
   ],
   "source": [
    "import matplotlib\n",
    "matplotlib.rcParams[\"figure.figsize\"] = (10,5)\n",
    "plt.hist(df9.price_per_sqm,rwidth=0.8)\n",
    "plt.xlabel(\"Price Per Square Meter\")\n",
    "plt.ylabel(\"Count\")"
   ]
  },
  {
   "cell_type": "code",
   "execution_count": 59,
   "id": "a0cfa303-5215-4130-b10f-cf05224276ea",
   "metadata": {
    "tags": []
   },
   "outputs": [
    {
     "data": {
      "text/plain": [
       "array([ 3. ,  4. ,  6. ,  7. ,  5. ,  8. ,  2. , 10. ,  1. ,  5.5, 11. ,\n",
       "       12. ])"
      ]
     },
     "execution_count": 59,
     "metadata": {},
     "output_type": "execute_result"
    }
   ],
   "source": [
    "df9.Bedrooms.unique()"
   ]
  },
  {
   "cell_type": "code",
   "execution_count": 60,
   "id": "3c8a3ec7-d426-49bf-ae4f-4cc484c6a598",
   "metadata": {
    "tags": []
   },
   "outputs": [
    {
     "data": {
      "text/plain": [
       "(557, 6)"
      ]
     },
     "execution_count": 60,
     "metadata": {},
     "output_type": "execute_result"
    }
   ],
   "source": [
    "# create a function that will remove fraction/decimal row with respect to bedrooms and bathrooms\n",
    "def remove_decimal_fraction_rows_in_column(df, column_name):\n",
    "    def contains_decimal_or_fraction(value):  # convery each cells to content to a float and check if the float value is an integer\n",
    "        try:\n",
    "            float_value = float(value)  \n",
    "            return float_value.is_integer()\n",
    "        except ValueError:\n",
    "            return False\n",
    "\n",
    "    mask = df[column_name].apply(contains_decimal_or_fraction)  # applied the function on each cell for specified column. The result are series of boolean values where true indicated\n",
    "                                                                # cells with decimal or fraction and false indicated cells with integers or non-numeric values\n",
    "    filtered_df = df[mask]\n",
    "    return filtered_df\n",
    "\n",
    "df10 = remove_decimal_fraction_rows_in_column(df9, \"Bedrooms\")\n",
    "df10.shape"
   ]
  },
  {
   "cell_type": "code",
   "execution_count": 61,
   "id": "973a90e5-6135-44b7-a5be-c4c3667ec75e",
   "metadata": {
    "tags": []
   },
   "outputs": [
    {
     "data": {
      "text/plain": [
       "array([ 3.,  4.,  6.,  7.,  5.,  8.,  2., 10.,  1., 11., 12.])"
      ]
     },
     "execution_count": 61,
     "metadata": {},
     "output_type": "execute_result"
    }
   ],
   "source": [
    "df10.Bedrooms.unique()"
   ]
  },
  {
   "cell_type": "code",
   "execution_count": 62,
   "id": "069f3696-86e5-4998-af95-4dc73e63390a",
   "metadata": {
    "tags": []
   },
   "outputs": [
    {
     "data": {
      "text/plain": [
       "(550, 6)"
      ]
     },
     "execution_count": 62,
     "metadata": {},
     "output_type": "execute_result"
    }
   ],
   "source": [
    "df10 = remove_decimal_fraction_rows_in_column(df10, \"Bathrooms\")\n",
    "df10.shape"
   ]
  },
  {
   "cell_type": "code",
   "execution_count": 63,
   "id": "ba5e0794-7aa2-4efe-b16e-7e7c0a0df050",
   "metadata": {
    "tags": []
   },
   "outputs": [
    {
     "data": {
      "text/plain": [
       "array([ 5.,  4.,  2.,  3.,  6.,  7.,  8., 10.,  1., 17.,  9., 12., 11.])"
      ]
     },
     "execution_count": 63,
     "metadata": {},
     "output_type": "execute_result"
    }
   ],
   "source": [
    "df10.Bathrooms.unique()"
   ]
  },
  {
   "cell_type": "code",
   "execution_count": 64,
   "id": "3593329d-af29-4bd3-93c8-fa05401dc8a2",
   "metadata": {
    "tags": []
   },
   "outputs": [
    {
     "data": {
      "text/html": [
       "<div>\n",
       "<style scoped>\n",
       "    .dataframe tbody tr th:only-of-type {\n",
       "        vertical-align: middle;\n",
       "    }\n",
       "\n",
       "    .dataframe tbody tr th {\n",
       "        vertical-align: top;\n",
       "    }\n",
       "\n",
       "    .dataframe thead th {\n",
       "        text-align: right;\n",
       "    }\n",
       "</style>\n",
       "<table border=\"1\" class=\"dataframe\">\n",
       "  <thead>\n",
       "    <tr style=\"text-align: right;\">\n",
       "      <th></th>\n",
       "      <th>Location</th>\n",
       "      <th>land_size_sqm</th>\n",
       "      <th>Bedrooms</th>\n",
       "      <th>Bathrooms</th>\n",
       "      <th>Price(Php)</th>\n",
       "      <th>price_per_sqm</th>\n",
       "    </tr>\n",
       "  </thead>\n",
       "  <tbody>\n",
       "    <tr>\n",
       "      <th>312</th>\n",
       "      <td>other</td>\n",
       "      <td>2186.0</td>\n",
       "      <td>10.0</td>\n",
       "      <td>17.0</td>\n",
       "      <td>421800000.0</td>\n",
       "      <td>192955.169259</td>\n",
       "    </tr>\n",
       "    <tr>\n",
       "      <th>313</th>\n",
       "      <td>other</td>\n",
       "      <td>2186.0</td>\n",
       "      <td>10.0</td>\n",
       "      <td>17.0</td>\n",
       "      <td>10000000.0</td>\n",
       "      <td>4574.565416</td>\n",
       "    </tr>\n",
       "    <tr>\n",
       "      <th>355</th>\n",
       "      <td>other</td>\n",
       "      <td>2186.0</td>\n",
       "      <td>10.0</td>\n",
       "      <td>17.0</td>\n",
       "      <td>350000000.0</td>\n",
       "      <td>160109.789570</td>\n",
       "    </tr>\n",
       "    <tr>\n",
       "      <th>382</th>\n",
       "      <td>other</td>\n",
       "      <td>2186.0</td>\n",
       "      <td>10.0</td>\n",
       "      <td>17.0</td>\n",
       "      <td>421800000.0</td>\n",
       "      <td>192955.169259</td>\n",
       "    </tr>\n",
       "    <tr>\n",
       "      <th>383</th>\n",
       "      <td>other</td>\n",
       "      <td>2186.0</td>\n",
       "      <td>10.0</td>\n",
       "      <td>17.0</td>\n",
       "      <td>421800000.0</td>\n",
       "      <td>192955.169259</td>\n",
       "    </tr>\n",
       "    <tr>\n",
       "      <th>413</th>\n",
       "      <td>other</td>\n",
       "      <td>650.0</td>\n",
       "      <td>10.0</td>\n",
       "      <td>12.0</td>\n",
       "      <td>65000000.0</td>\n",
       "      <td>100000.000000</td>\n",
       "    </tr>\n",
       "    <tr>\n",
       "      <th>653</th>\n",
       "      <td>other</td>\n",
       "      <td>600.0</td>\n",
       "      <td>8.0</td>\n",
       "      <td>11.0</td>\n",
       "      <td>95000000.0</td>\n",
       "      <td>158333.333333</td>\n",
       "    </tr>\n",
       "    <tr>\n",
       "      <th>676</th>\n",
       "      <td>other</td>\n",
       "      <td>600.0</td>\n",
       "      <td>8.0</td>\n",
       "      <td>11.0</td>\n",
       "      <td>95000000.0</td>\n",
       "      <td>158333.333333</td>\n",
       "    </tr>\n",
       "  </tbody>\n",
       "</table>\n",
       "</div>"
      ],
      "text/plain": [
       "    Location  land_size_sqm  Bedrooms  Bathrooms   Price(Php)  price_per_sqm\n",
       "312    other         2186.0      10.0       17.0  421800000.0  192955.169259\n",
       "313    other         2186.0      10.0       17.0   10000000.0    4574.565416\n",
       "355    other         2186.0      10.0       17.0  350000000.0  160109.789570\n",
       "382    other         2186.0      10.0       17.0  421800000.0  192955.169259\n",
       "383    other         2186.0      10.0       17.0  421800000.0  192955.169259\n",
       "413    other          650.0      10.0       12.0   65000000.0  100000.000000\n",
       "653    other          600.0       8.0       11.0   95000000.0  158333.333333\n",
       "676    other          600.0       8.0       11.0   95000000.0  158333.333333"
      ]
     },
     "execution_count": 64,
     "metadata": {},
     "output_type": "execute_result"
    }
   ],
   "source": [
    "df10[df10.Bathrooms>10]"
   ]
  },
  {
   "cell_type": "code",
   "execution_count": 65,
   "id": "8e578613-7df4-45a9-8ef7-32b3aca79ea1",
   "metadata": {
    "tags": []
   },
   "outputs": [
    {
     "data": {
      "text/plain": [
       "Text(0, 0.5, 'Count')"
      ]
     },
     "execution_count": 65,
     "metadata": {},
     "output_type": "execute_result"
    },
    {
     "data": {
      "image/png": "[encoded data removed]",
      "text/plain": [
       "<Figure size 1000x500 with 1 Axes>"
      ]
     },
     "metadata": {},
     "output_type": "display_data"
    }
   ],
   "source": [
    "plt.hist(df10.Bathrooms,rwidth=0.6)\n",
    "plt.xticks(range(17))\n",
    "plt.xlabel(\"Number of Bathrooms\")\n",
    "plt.ylabel(\"Count\")"
   ]
  },
  {
   "cell_type": "code",
   "execution_count": 66,
   "id": "e209c84f-5807-43ba-9876-ec4d95ea51be",
   "metadata": {
    "tags": []
   },
   "outputs": [
    {
     "data": {
      "text/html": [
       "<div>\n",
       "<style scoped>\n",
       "    .dataframe tbody tr th:only-of-type {\n",
       "        vertical-align: middle;\n",
       "    }\n",
       "\n",
       "    .dataframe tbody tr th {\n",
       "        vertical-align: top;\n",
       "    }\n",
       "\n",
       "    .dataframe thead th {\n",
       "        text-align: right;\n",
       "    }\n",
       "</style>\n",
       "<table border=\"1\" class=\"dataframe\">\n",
       "  <thead>\n",
       "    <tr style=\"text-align: right;\">\n",
       "      <th></th>\n",
       "      <th>Location</th>\n",
       "      <th>land_size_sqm</th>\n",
       "      <th>Bedrooms</th>\n",
       "      <th>Bathrooms</th>\n",
       "      <th>Price(Php)</th>\n",
       "      <th>price_per_sqm</th>\n",
       "    </tr>\n",
       "  </thead>\n",
       "  <tbody>\n",
       "    <tr>\n",
       "      <th>312</th>\n",
       "      <td>other</td>\n",
       "      <td>2186.0</td>\n",
       "      <td>10.0</td>\n",
       "      <td>17.0</td>\n",
       "      <td>421800000.0</td>\n",
       "      <td>192955.169259</td>\n",
       "    </tr>\n",
       "    <tr>\n",
       "      <th>313</th>\n",
       "      <td>other</td>\n",
       "      <td>2186.0</td>\n",
       "      <td>10.0</td>\n",
       "      <td>17.0</td>\n",
       "      <td>10000000.0</td>\n",
       "      <td>4574.565416</td>\n",
       "    </tr>\n",
       "    <tr>\n",
       "      <th>355</th>\n",
       "      <td>other</td>\n",
       "      <td>2186.0</td>\n",
       "      <td>10.0</td>\n",
       "      <td>17.0</td>\n",
       "      <td>350000000.0</td>\n",
       "      <td>160109.789570</td>\n",
       "    </tr>\n",
       "    <tr>\n",
       "      <th>382</th>\n",
       "      <td>other</td>\n",
       "      <td>2186.0</td>\n",
       "      <td>10.0</td>\n",
       "      <td>17.0</td>\n",
       "      <td>421800000.0</td>\n",
       "      <td>192955.169259</td>\n",
       "    </tr>\n",
       "    <tr>\n",
       "      <th>383</th>\n",
       "      <td>other</td>\n",
       "      <td>2186.0</td>\n",
       "      <td>10.0</td>\n",
       "      <td>17.0</td>\n",
       "      <td>421800000.0</td>\n",
       "      <td>192955.169259</td>\n",
       "    </tr>\n",
       "    <tr>\n",
       "      <th>653</th>\n",
       "      <td>other</td>\n",
       "      <td>600.0</td>\n",
       "      <td>8.0</td>\n",
       "      <td>11.0</td>\n",
       "      <td>95000000.0</td>\n",
       "      <td>158333.333333</td>\n",
       "    </tr>\n",
       "    <tr>\n",
       "      <th>676</th>\n",
       "      <td>other</td>\n",
       "      <td>600.0</td>\n",
       "      <td>8.0</td>\n",
       "      <td>11.0</td>\n",
       "      <td>95000000.0</td>\n",
       "      <td>158333.333333</td>\n",
       "    </tr>\n",
       "  </tbody>\n",
       "</table>\n",
       "</div>"
      ],
      "text/plain": [
       "    Location  land_size_sqm  Bedrooms  Bathrooms   Price(Php)  price_per_sqm\n",
       "312    other         2186.0      10.0       17.0  421800000.0  192955.169259\n",
       "313    other         2186.0      10.0       17.0   10000000.0    4574.565416\n",
       "355    other         2186.0      10.0       17.0  350000000.0  160109.789570\n",
       "382    other         2186.0      10.0       17.0  421800000.0  192955.169259\n",
       "383    other         2186.0      10.0       17.0  421800000.0  192955.169259\n",
       "653    other          600.0       8.0       11.0   95000000.0  158333.333333\n",
       "676    other          600.0       8.0       11.0   95000000.0  158333.333333"
      ]
     },
     "execution_count": 66,
     "metadata": {},
     "output_type": "execute_result"
    }
   ],
   "source": [
    "df10[df10.Bathrooms>df10.Bedrooms+2]"
   ]
  },
  {
   "cell_type": "code",
   "execution_count": 67,
   "id": "00e8bbc5-65cd-40da-9bf7-6051ef1f436b",
   "metadata": {
    "tags": []
   },
   "outputs": [
    {
     "data": {
      "text/plain": [
       "(531, 6)"
      ]
     },
     "execution_count": 67,
     "metadata": {},
     "output_type": "execute_result"
    }
   ],
   "source": [
    "df11 = df10[df10.Bathrooms<df10.Bedrooms+2]\n",
    "df11.shape"
   ]
  },
  {
   "cell_type": "code",
   "execution_count": 68,
   "id": "b1a6ccc1-32c9-46d2-9360-b7ce17944248",
   "metadata": {
    "tags": []
   },
   "outputs": [
    {
     "data": {
      "text/html": [
       "<div>\n",
       "<style scoped>\n",
       "    .dataframe tbody tr th:only-of-type {\n",
       "        vertical-align: middle;\n",
       "    }\n",
       "\n",
       "    .dataframe tbody tr th {\n",
       "        vertical-align: top;\n",
       "    }\n",
       "\n",
       "    .dataframe thead th {\n",
       "        text-align: right;\n",
       "    }\n",
       "</style>\n",
       "<table border=\"1\" class=\"dataframe\">\n",
       "  <thead>\n",
       "    <tr style=\"text-align: right;\">\n",
       "      <th></th>\n",
       "      <th>Location</th>\n",
       "      <th>land_size_sqm</th>\n",
       "      <th>Bedrooms</th>\n",
       "      <th>Bathrooms</th>\n",
       "      <th>Price(Php)</th>\n",
       "      <th>price_per_sqm</th>\n",
       "    </tr>\n",
       "  </thead>\n",
       "  <tbody>\n",
       "    <tr>\n",
       "      <th>2</th>\n",
       "      <td>Almanza Dos, Las Pinas</td>\n",
       "      <td>267.0</td>\n",
       "      <td>4.0</td>\n",
       "      <td>4.0</td>\n",
       "      <td>38003100.0</td>\n",
       "      <td>142333.707865</td>\n",
       "    </tr>\n",
       "    <tr>\n",
       "      <th>3</th>\n",
       "      <td>Almanza Dos, Las Pinas</td>\n",
       "      <td>120.0</td>\n",
       "      <td>3.0</td>\n",
       "      <td>2.0</td>\n",
       "      <td>18000000.0</td>\n",
       "      <td>150000.000000</td>\n",
       "    </tr>\n",
       "    <tr>\n",
       "      <th>4</th>\n",
       "      <td>Almanza Dos, Las Pinas</td>\n",
       "      <td>240.0</td>\n",
       "      <td>4.0</td>\n",
       "      <td>4.0</td>\n",
       "      <td>34242500.0</td>\n",
       "      <td>142677.083333</td>\n",
       "    </tr>\n",
       "    <tr>\n",
       "      <th>5</th>\n",
       "      <td>Almanza Dos, Las Pinas</td>\n",
       "      <td>120.0</td>\n",
       "      <td>4.0</td>\n",
       "      <td>4.0</td>\n",
       "      <td>19817000.0</td>\n",
       "      <td>165141.666667</td>\n",
       "    </tr>\n",
       "    <tr>\n",
       "      <th>6</th>\n",
       "      <td>Almanza Dos, Las Pinas</td>\n",
       "      <td>240.0</td>\n",
       "      <td>4.0</td>\n",
       "      <td>4.0</td>\n",
       "      <td>34240000.0</td>\n",
       "      <td>142666.666667</td>\n",
       "    </tr>\n",
       "  </tbody>\n",
       "</table>\n",
       "</div>"
      ],
      "text/plain": [
       "                 Location  land_size_sqm  Bedrooms  Bathrooms  Price(Php)  \\\n",
       "2  Almanza Dos, Las Pinas          267.0       4.0        4.0  38003100.0   \n",
       "3  Almanza Dos, Las Pinas          120.0       3.0        2.0  18000000.0   \n",
       "4  Almanza Dos, Las Pinas          240.0       4.0        4.0  34242500.0   \n",
       "5  Almanza Dos, Las Pinas          120.0       4.0        4.0  19817000.0   \n",
       "6  Almanza Dos, Las Pinas          240.0       4.0        4.0  34240000.0   \n",
       "\n",
       "   price_per_sqm  \n",
       "2  142333.707865  \n",
       "3  150000.000000  \n",
       "4  142677.083333  \n",
       "5  165141.666667  \n",
       "6  142666.666667  "
      ]
     },
     "execution_count": 68,
     "metadata": {},
     "output_type": "execute_result"
    }
   ],
   "source": [
    "df11.head()"
   ]
  },
  {
   "cell_type": "code",
   "execution_count": 69,
   "id": "9fa2572d-baf6-412a-a9e4-69a06a12adf8",
   "metadata": {
    "tags": []
   },
   "outputs": [
    {
     "data": {
      "text/html": [
       "<div>\n",
       "<style scoped>\n",
       "    .dataframe tbody tr th:only-of-type {\n",
       "        vertical-align: middle;\n",
       "    }\n",
       "\n",
       "    .dataframe tbody tr th {\n",
       "        vertical-align: top;\n",
       "    }\n",
       "\n",
       "    .dataframe thead th {\n",
       "        text-align: right;\n",
       "    }\n",
       "</style>\n",
       "<table border=\"1\" class=\"dataframe\">\n",
       "  <thead>\n",
       "    <tr style=\"text-align: right;\">\n",
       "      <th></th>\n",
       "      <th>Location</th>\n",
       "      <th>land_size_sqm</th>\n",
       "      <th>Bedrooms</th>\n",
       "      <th>Bathrooms</th>\n",
       "      <th>Price(Php)</th>\n",
       "    </tr>\n",
       "  </thead>\n",
       "  <tbody>\n",
       "    <tr>\n",
       "      <th>2</th>\n",
       "      <td>Almanza Dos, Las Pinas</td>\n",
       "      <td>267.0</td>\n",
       "      <td>4.0</td>\n",
       "      <td>4.0</td>\n",
       "      <td>38003100.0</td>\n",
       "    </tr>\n",
       "    <tr>\n",
       "      <th>3</th>\n",
       "      <td>Almanza Dos, Las Pinas</td>\n",
       "      <td>120.0</td>\n",
       "      <td>3.0</td>\n",
       "      <td>2.0</td>\n",
       "      <td>18000000.0</td>\n",
       "    </tr>\n",
       "    <tr>\n",
       "      <th>4</th>\n",
       "      <td>Almanza Dos, Las Pinas</td>\n",
       "      <td>240.0</td>\n",
       "      <td>4.0</td>\n",
       "      <td>4.0</td>\n",
       "      <td>34242500.0</td>\n",
       "    </tr>\n",
       "    <tr>\n",
       "      <th>5</th>\n",
       "      <td>Almanza Dos, Las Pinas</td>\n",
       "      <td>120.0</td>\n",
       "      <td>4.0</td>\n",
       "      <td>4.0</td>\n",
       "      <td>19817000.0</td>\n",
       "    </tr>\n",
       "    <tr>\n",
       "      <th>6</th>\n",
       "      <td>Almanza Dos, Las Pinas</td>\n",
       "      <td>240.0</td>\n",
       "      <td>4.0</td>\n",
       "      <td>4.0</td>\n",
       "      <td>34240000.0</td>\n",
       "    </tr>\n",
       "  </tbody>\n",
       "</table>\n",
       "</div>"
      ],
      "text/plain": [
       "                 Location  land_size_sqm  Bedrooms  Bathrooms  Price(Php)\n",
       "2  Almanza Dos, Las Pinas          267.0       4.0        4.0  38003100.0\n",
       "3  Almanza Dos, Las Pinas          120.0       3.0        2.0  18000000.0\n",
       "4  Almanza Dos, Las Pinas          240.0       4.0        4.0  34242500.0\n",
       "5  Almanza Dos, Las Pinas          120.0       4.0        4.0  19817000.0\n",
       "6  Almanza Dos, Las Pinas          240.0       4.0        4.0  34240000.0"
      ]
     },
     "execution_count": 69,
     "metadata": {},
     "output_type": "execute_result"
    }
   ],
   "source": [
    "df12 = df11.drop(['price_per_sqm'],axis='columns')\n",
    "df12.head()"
   ]
  },
  {
   "cell_type": "markdown",
   "id": "dc0add2a-5456-46f8-99cb-3cbc8481556e",
   "metadata": {
    "tags": []
   },
   "source": [
    "# Model Building\n",
    "## Since machine learning model cannot interpret text data converting text column into numerical information. Using One-hot encoding aka. dummies.\n",
    "### - One-hot encoding is a way to represent categorical variables as binary vectors"
   ]
  },
  {
   "cell_type": "code",
   "execution_count": 70,
   "id": "b9d0cb22-f7b9-405d-98d4-5644290e65cf",
   "metadata": {
    "tags": []
   },
   "outputs": [
    {
     "data": {
      "text/html": [
       "<div>\n",
       "<style scoped>\n",
       "    .dataframe tbody tr th:only-of-type {\n",
       "        vertical-align: middle;\n",
       "    }\n",
       "\n",
       "    .dataframe tbody tr th {\n",
       "        vertical-align: top;\n",
       "    }\n",
       "\n",
       "    .dataframe thead th {\n",
       "        text-align: right;\n",
       "    }\n",
       "</style>\n",
       "<table border=\"1\" class=\"dataframe\">\n",
       "  <thead>\n",
       "    <tr style=\"text-align: right;\">\n",
       "      <th></th>\n",
       "      <th>Almanza Dos, Las Pinas</th>\n",
       "      <th>Ayala Alabang, Muntinlupa</th>\n",
       "      <th>B.F. Homes, Paranaque</th>\n",
       "      <th>Don Bosco, Paranaque</th>\n",
       "      <th>Matandang Balara, Quezon City</th>\n",
       "      <th>Merville, Paranaque</th>\n",
       "      <th>Molino IV, Bacoor</th>\n",
       "      <th>Pilar, Las Pinas</th>\n",
       "      <th>San Isidro, Cainta</th>\n",
       "      <th>Talon Dos, Las Pinas</th>\n",
       "      <th>Talon Singko, Las Pinas</th>\n",
       "      <th>other</th>\n",
       "    </tr>\n",
       "  </thead>\n",
       "  <tbody>\n",
       "    <tr>\n",
       "      <th>2</th>\n",
       "      <td>1</td>\n",
       "      <td>0</td>\n",
       "      <td>0</td>\n",
       "      <td>0</td>\n",
       "      <td>0</td>\n",
       "      <td>0</td>\n",
       "      <td>0</td>\n",
       "      <td>0</td>\n",
       "      <td>0</td>\n",
       "      <td>0</td>\n",
       "      <td>0</td>\n",
       "      <td>0</td>\n",
       "    </tr>\n",
       "    <tr>\n",
       "      <th>3</th>\n",
       "      <td>1</td>\n",
       "      <td>0</td>\n",
       "      <td>0</td>\n",
       "      <td>0</td>\n",
       "      <td>0</td>\n",
       "      <td>0</td>\n",
       "      <td>0</td>\n",
       "      <td>0</td>\n",
       "      <td>0</td>\n",
       "      <td>0</td>\n",
       "      <td>0</td>\n",
       "      <td>0</td>\n",
       "    </tr>\n",
       "    <tr>\n",
       "      <th>4</th>\n",
       "      <td>1</td>\n",
       "      <td>0</td>\n",
       "      <td>0</td>\n",
       "      <td>0</td>\n",
       "      <td>0</td>\n",
       "      <td>0</td>\n",
       "      <td>0</td>\n",
       "      <td>0</td>\n",
       "      <td>0</td>\n",
       "      <td>0</td>\n",
       "      <td>0</td>\n",
       "      <td>0</td>\n",
       "    </tr>\n",
       "    <tr>\n",
       "      <th>5</th>\n",
       "      <td>1</td>\n",
       "      <td>0</td>\n",
       "      <td>0</td>\n",
       "      <td>0</td>\n",
       "      <td>0</td>\n",
       "      <td>0</td>\n",
       "      <td>0</td>\n",
       "      <td>0</td>\n",
       "      <td>0</td>\n",
       "      <td>0</td>\n",
       "      <td>0</td>\n",
       "      <td>0</td>\n",
       "    </tr>\n",
       "    <tr>\n",
       "      <th>6</th>\n",
       "      <td>1</td>\n",
       "      <td>0</td>\n",
       "      <td>0</td>\n",
       "      <td>0</td>\n",
       "      <td>0</td>\n",
       "      <td>0</td>\n",
       "      <td>0</td>\n",
       "      <td>0</td>\n",
       "      <td>0</td>\n",
       "      <td>0</td>\n",
       "      <td>0</td>\n",
       "      <td>0</td>\n",
       "    </tr>\n",
       "  </tbody>\n",
       "</table>\n",
       "</div>"
      ],
      "text/plain": [
       "   Almanza Dos, Las Pinas  Ayala Alabang, Muntinlupa  B.F. Homes, Paranaque  \\\n",
       "2                       1                          0                      0   \n",
       "3                       1                          0                      0   \n",
       "4                       1                          0                      0   \n",
       "5                       1                          0                      0   \n",
       "6                       1                          0                      0   \n",
       "\n",
       "   Don Bosco, Paranaque  Matandang Balara, Quezon City  Merville, Paranaque  \\\n",
       "2                     0                              0                    0   \n",
       "3                     0                              0                    0   \n",
       "4                     0                              0                    0   \n",
       "5                     0                              0                    0   \n",
       "6                     0                              0                    0   \n",
       "\n",
       "   Molino IV, Bacoor  Pilar, Las Pinas  San Isidro, Cainta  \\\n",
       "2                  0                 0                   0   \n",
       "3                  0                 0                   0   \n",
       "4                  0                 0                   0   \n",
       "5                  0                 0                   0   \n",
       "6                  0                 0                   0   \n",
       "\n",
       "   Talon Dos, Las Pinas  Talon Singko, Las Pinas  other  \n",
       "2                     0                        0      0  \n",
       "3                     0                        0      0  \n",
       "4                     0                        0      0  \n",
       "5                     0                        0      0  \n",
       "6                     0                        0      0  "
      ]
     },
     "execution_count": 70,
     "metadata": {},
     "output_type": "execute_result"
    }
   ],
   "source": [
    "dummies = pd.get_dummies(df12.Location)  # pd.getdummies - function from pandas to create dummy variables aka one-hot encoding\n",
    "dummies.head()"
   ]
  },
  {
   "cell_type": "code",
   "execution_count": 71,
   "id": "3696074e-6c4c-4684-a95b-0bc3331d20e3",
   "metadata": {
    "tags": []
   },
   "outputs": [
    {
     "data": {
      "text/html": [
       "<div>\n",
       "<style scoped>\n",
       "    .dataframe tbody tr th:only-of-type {\n",
       "        vertical-align: middle;\n",
       "    }\n",
       "\n",
       "    .dataframe tbody tr th {\n",
       "        vertical-align: top;\n",
       "    }\n",
       "\n",
       "    .dataframe thead th {\n",
       "        text-align: right;\n",
       "    }\n",
       "</style>\n",
       "<table border=\"1\" class=\"dataframe\">\n",
       "  <thead>\n",
       "    <tr style=\"text-align: right;\">\n",
       "      <th></th>\n",
       "      <th>Location</th>\n",
       "      <th>land_size_sqm</th>\n",
       "      <th>Bedrooms</th>\n",
       "      <th>Bathrooms</th>\n",
       "      <th>Price(Php)</th>\n",
       "      <th>Almanza Dos, Las Pinas</th>\n",
       "      <th>Ayala Alabang, Muntinlupa</th>\n",
       "      <th>B.F. Homes, Paranaque</th>\n",
       "      <th>Don Bosco, Paranaque</th>\n",
       "      <th>Matandang Balara, Quezon City</th>\n",
       "      <th>Merville, Paranaque</th>\n",
       "      <th>Molino IV, Bacoor</th>\n",
       "      <th>Pilar, Las Pinas</th>\n",
       "      <th>San Isidro, Cainta</th>\n",
       "      <th>Talon Dos, Las Pinas</th>\n",
       "      <th>Talon Singko, Las Pinas</th>\n",
       "    </tr>\n",
       "  </thead>\n",
       "  <tbody>\n",
       "    <tr>\n",
       "      <th>2</th>\n",
       "      <td>Almanza Dos, Las Pinas</td>\n",
       "      <td>267.0</td>\n",
       "      <td>4.0</td>\n",
       "      <td>4.0</td>\n",
       "      <td>38003100.0</td>\n",
       "      <td>1</td>\n",
       "      <td>0</td>\n",
       "      <td>0</td>\n",
       "      <td>0</td>\n",
       "      <td>0</td>\n",
       "      <td>0</td>\n",
       "      <td>0</td>\n",
       "      <td>0</td>\n",
       "      <td>0</td>\n",
       "      <td>0</td>\n",
       "      <td>0</td>\n",
       "    </tr>\n",
       "    <tr>\n",
       "      <th>3</th>\n",
       "      <td>Almanza Dos, Las Pinas</td>\n",
       "      <td>120.0</td>\n",
       "      <td>3.0</td>\n",
       "      <td>2.0</td>\n",
       "      <td>18000000.0</td>\n",
       "      <td>1</td>\n",
       "      <td>0</td>\n",
       "      <td>0</td>\n",
       "      <td>0</td>\n",
       "      <td>0</td>\n",
       "      <td>0</td>\n",
       "      <td>0</td>\n",
       "      <td>0</td>\n",
       "      <td>0</td>\n",
       "      <td>0</td>\n",
       "      <td>0</td>\n",
       "    </tr>\n",
       "    <tr>\n",
       "      <th>4</th>\n",
       "      <td>Almanza Dos, Las Pinas</td>\n",
       "      <td>240.0</td>\n",
       "      <td>4.0</td>\n",
       "      <td>4.0</td>\n",
       "      <td>34242500.0</td>\n",
       "      <td>1</td>\n",
       "      <td>0</td>\n",
       "      <td>0</td>\n",
       "      <td>0</td>\n",
       "      <td>0</td>\n",
       "      <td>0</td>\n",
       "      <td>0</td>\n",
       "      <td>0</td>\n",
       "      <td>0</td>\n",
       "      <td>0</td>\n",
       "      <td>0</td>\n",
       "    </tr>\n",
       "    <tr>\n",
       "      <th>5</th>\n",
       "      <td>Almanza Dos, Las Pinas</td>\n",
       "      <td>120.0</td>\n",
       "      <td>4.0</td>\n",
       "      <td>4.0</td>\n",
       "      <td>19817000.0</td>\n",
       "      <td>1</td>\n",
       "      <td>0</td>\n",
       "      <td>0</td>\n",
       "      <td>0</td>\n",
       "      <td>0</td>\n",
       "      <td>0</td>\n",
       "      <td>0</td>\n",
       "      <td>0</td>\n",
       "      <td>0</td>\n",
       "      <td>0</td>\n",
       "      <td>0</td>\n",
       "    </tr>\n",
       "    <tr>\n",
       "      <th>6</th>\n",
       "      <td>Almanza Dos, Las Pinas</td>\n",
       "      <td>240.0</td>\n",
       "      <td>4.0</td>\n",
       "      <td>4.0</td>\n",
       "      <td>34240000.0</td>\n",
       "      <td>1</td>\n",
       "      <td>0</td>\n",
       "      <td>0</td>\n",
       "      <td>0</td>\n",
       "      <td>0</td>\n",
       "      <td>0</td>\n",
       "      <td>0</td>\n",
       "      <td>0</td>\n",
       "      <td>0</td>\n",
       "      <td>0</td>\n",
       "      <td>0</td>\n",
       "    </tr>\n",
       "  </tbody>\n",
       "</table>\n",
       "</div>"
      ],
      "text/plain": [
       "                 Location  land_size_sqm  Bedrooms  Bathrooms  Price(Php)  \\\n",
       "2  Almanza Dos, Las Pinas          267.0       4.0        4.0  38003100.0   \n",
       "3  Almanza Dos, Las Pinas          120.0       3.0        2.0  18000000.0   \n",
       "4  Almanza Dos, Las Pinas          240.0       4.0        4.0  34242500.0   \n",
       "5  Almanza Dos, Las Pinas          120.0       4.0        4.0  19817000.0   \n",
       "6  Almanza Dos, Las Pinas          240.0       4.0        4.0  34240000.0   \n",
       "\n",
       "   Almanza Dos, Las Pinas  Ayala Alabang, Muntinlupa  B.F. Homes, Paranaque  \\\n",
       "2                       1                          0                      0   \n",
       "3                       1                          0                      0   \n",
       "4                       1                          0                      0   \n",
       "5                       1                          0                      0   \n",
       "6                       1                          0                      0   \n",
       "\n",
       "   Don Bosco, Paranaque  Matandang Balara, Quezon City  Merville, Paranaque  \\\n",
       "2                     0                              0                    0   \n",
       "3                     0                              0                    0   \n",
       "4                     0                              0                    0   \n",
       "5                     0                              0                    0   \n",
       "6                     0                              0                    0   \n",
       "\n",
       "   Molino IV, Bacoor  Pilar, Las Pinas  San Isidro, Cainta  \\\n",
       "2                  0                 0                   0   \n",
       "3                  0                 0                   0   \n",
       "4                  0                 0                   0   \n",
       "5                  0                 0                   0   \n",
       "6                  0                 0                   0   \n",
       "\n",
       "   Talon Dos, Las Pinas  Talon Singko, Las Pinas  \n",
       "2                     0                        0  \n",
       "3                     0                        0  \n",
       "4                     0                        0  \n",
       "5                     0                        0  \n",
       "6                     0                        0  "
      ]
     },
     "execution_count": 71,
     "metadata": {},
     "output_type": "execute_result"
    }
   ],
   "source": [
    "df13 = pd.concat([df12, dummies.drop('other', axis='columns')], axis='columns')  # dropping 'other' column to avoid multicolliniearity, where one column can be perfectly predicted from\n",
    "                                                                                 # other column. It ensures that the dummy variables are linearly independent\n",
    "df13.head()"
   ]
  },
  {
   "cell_type": "code",
   "execution_count": 72,
   "id": "fe3c4bf9-540b-4b28-bd0e-84e71efc636c",
   "metadata": {
    "tags": []
   },
   "outputs": [
    {
     "data": {
      "text/html": [
       "<div>\n",
       "<style scoped>\n",
       "    .dataframe tbody tr th:only-of-type {\n",
       "        vertical-align: middle;\n",
       "    }\n",
       "\n",
       "    .dataframe tbody tr th {\n",
       "        vertical-align: top;\n",
       "    }\n",
       "\n",
       "    .dataframe thead th {\n",
       "        text-align: right;\n",
       "    }\n",
       "</style>\n",
       "<table border=\"1\" class=\"dataframe\">\n",
       "  <thead>\n",
       "    <tr style=\"text-align: right;\">\n",
       "      <th></th>\n",
       "      <th>land_size_sqm</th>\n",
       "      <th>Bedrooms</th>\n",
       "      <th>Bathrooms</th>\n",
       "      <th>Price(Php)</th>\n",
       "      <th>Almanza Dos, Las Pinas</th>\n",
       "      <th>Ayala Alabang, Muntinlupa</th>\n",
       "      <th>B.F. Homes, Paranaque</th>\n",
       "      <th>Don Bosco, Paranaque</th>\n",
       "      <th>Matandang Balara, Quezon City</th>\n",
       "      <th>Merville, Paranaque</th>\n",
       "      <th>Molino IV, Bacoor</th>\n",
       "      <th>Pilar, Las Pinas</th>\n",
       "      <th>San Isidro, Cainta</th>\n",
       "      <th>Talon Dos, Las Pinas</th>\n",
       "      <th>Talon Singko, Las Pinas</th>\n",
       "    </tr>\n",
       "  </thead>\n",
       "  <tbody>\n",
       "    <tr>\n",
       "      <th>2</th>\n",
       "      <td>267.0</td>\n",
       "      <td>4.0</td>\n",
       "      <td>4.0</td>\n",
       "      <td>38003100.0</td>\n",
       "      <td>1</td>\n",
       "      <td>0</td>\n",
       "      <td>0</td>\n",
       "      <td>0</td>\n",
       "      <td>0</td>\n",
       "      <td>0</td>\n",
       "      <td>0</td>\n",
       "      <td>0</td>\n",
       "      <td>0</td>\n",
       "      <td>0</td>\n",
       "      <td>0</td>\n",
       "    </tr>\n",
       "    <tr>\n",
       "      <th>3</th>\n",
       "      <td>120.0</td>\n",
       "      <td>3.0</td>\n",
       "      <td>2.0</td>\n",
       "      <td>18000000.0</td>\n",
       "      <td>1</td>\n",
       "      <td>0</td>\n",
       "      <td>0</td>\n",
       "      <td>0</td>\n",
       "      <td>0</td>\n",
       "      <td>0</td>\n",
       "      <td>0</td>\n",
       "      <td>0</td>\n",
       "      <td>0</td>\n",
       "      <td>0</td>\n",
       "      <td>0</td>\n",
       "    </tr>\n",
       "  </tbody>\n",
       "</table>\n",
       "</div>"
      ],
      "text/plain": [
       "   land_size_sqm  Bedrooms  Bathrooms  Price(Php)  Almanza Dos, Las Pinas  \\\n",
       "2          267.0       4.0        4.0  38003100.0                       1   \n",
       "3          120.0       3.0        2.0  18000000.0                       1   \n",
       "\n",
       "   Ayala Alabang, Muntinlupa  B.F. Homes, Paranaque  Don Bosco, Paranaque  \\\n",
       "2                          0                      0                     0   \n",
       "3                          0                      0                     0   \n",
       "\n",
       "   Matandang Balara, Quezon City  Merville, Paranaque  Molino IV, Bacoor  \\\n",
       "2                              0                    0                  0   \n",
       "3                              0                    0                  0   \n",
       "\n",
       "   Pilar, Las Pinas  San Isidro, Cainta  Talon Dos, Las Pinas  \\\n",
       "2                 0                   0                     0   \n",
       "3                 0                   0                     0   \n",
       "\n",
       "   Talon Singko, Las Pinas  \n",
       "2                        0  \n",
       "3                        0  "
      ]
     },
     "execution_count": 72,
     "metadata": {},
     "output_type": "execute_result"
    }
   ],
   "source": [
    "df14 = df13.drop('Location', axis='columns')\n",
    "df14.head(2)"
   ]
  },
  {
   "cell_type": "code",
   "execution_count": 73,
   "id": "5d684787-bbe2-4f82-bf6a-bb7156a45934",
   "metadata": {
    "tags": []
   },
   "outputs": [
    {
     "data": {
      "text/plain": [
       "(531, 15)"
      ]
     },
     "execution_count": 73,
     "metadata": {},
     "output_type": "execute_result"
    }
   ],
   "source": [
    "df14.shape"
   ]
  },
  {
   "cell_type": "markdown",
   "id": "7d6139f5-4f51-47cb-a7e6-a52a953fb719",
   "metadata": {},
   "source": [
    "## Start of building the model"
   ]
  },
  {
   "cell_type": "code",
   "execution_count": 95,
   "id": "0beff5cd-efd9-43f6-9c8a-f17966d547df",
   "metadata": {
    "tags": []
   },
   "outputs": [
    {
     "data": {
      "text/html": [
       "<div>\n",
       "<style scoped>\n",
       "    .dataframe tbody tr th:only-of-type {\n",
       "        vertical-align: middle;\n",
       "    }\n",
       "\n",
       "    .dataframe tbody tr th {\n",
       "        vertical-align: top;\n",
       "    }\n",
       "\n",
       "    .dataframe thead th {\n",
       "        text-align: right;\n",
       "    }\n",
       "</style>\n",
       "<table border=\"1\" class=\"dataframe\">\n",
       "  <thead>\n",
       "    <tr style=\"text-align: right;\">\n",
       "      <th></th>\n",
       "      <th>land_size_sqm</th>\n",
       "      <th>Bedrooms</th>\n",
       "      <th>Bathrooms</th>\n",
       "      <th>Almanza Dos, Las Pinas</th>\n",
       "      <th>Ayala Alabang, Muntinlupa</th>\n",
       "      <th>B.F. Homes, Paranaque</th>\n",
       "      <th>Don Bosco, Paranaque</th>\n",
       "      <th>Matandang Balara, Quezon City</th>\n",
       "      <th>Merville, Paranaque</th>\n",
       "      <th>Molino IV, Bacoor</th>\n",
       "      <th>Pilar, Las Pinas</th>\n",
       "      <th>San Isidro, Cainta</th>\n",
       "      <th>Talon Dos, Las Pinas</th>\n",
       "      <th>Talon Singko, Las Pinas</th>\n",
       "    </tr>\n",
       "  </thead>\n",
       "  <tbody>\n",
       "    <tr>\n",
       "      <th>2</th>\n",
       "      <td>267.0</td>\n",
       "      <td>4.0</td>\n",
       "      <td>4.0</td>\n",
       "      <td>1</td>\n",
       "      <td>0</td>\n",
       "      <td>0</td>\n",
       "      <td>0</td>\n",
       "      <td>0</td>\n",
       "      <td>0</td>\n",
       "      <td>0</td>\n",
       "      <td>0</td>\n",
       "      <td>0</td>\n",
       "      <td>0</td>\n",
       "      <td>0</td>\n",
       "    </tr>\n",
       "    <tr>\n",
       "      <th>3</th>\n",
       "      <td>120.0</td>\n",
       "      <td>3.0</td>\n",
       "      <td>2.0</td>\n",
       "      <td>1</td>\n",
       "      <td>0</td>\n",
       "      <td>0</td>\n",
       "      <td>0</td>\n",
       "      <td>0</td>\n",
       "      <td>0</td>\n",
       "      <td>0</td>\n",
       "      <td>0</td>\n",
       "      <td>0</td>\n",
       "      <td>0</td>\n",
       "      <td>0</td>\n",
       "    </tr>\n",
       "    <tr>\n",
       "      <th>4</th>\n",
       "      <td>240.0</td>\n",
       "      <td>4.0</td>\n",
       "      <td>4.0</td>\n",
       "      <td>1</td>\n",
       "      <td>0</td>\n",
       "      <td>0</td>\n",
       "      <td>0</td>\n",
       "      <td>0</td>\n",
       "      <td>0</td>\n",
       "      <td>0</td>\n",
       "      <td>0</td>\n",
       "      <td>0</td>\n",
       "      <td>0</td>\n",
       "      <td>0</td>\n",
       "    </tr>\n",
       "    <tr>\n",
       "      <th>5</th>\n",
       "      <td>120.0</td>\n",
       "      <td>4.0</td>\n",
       "      <td>4.0</td>\n",
       "      <td>1</td>\n",
       "      <td>0</td>\n",
       "      <td>0</td>\n",
       "      <td>0</td>\n",
       "      <td>0</td>\n",
       "      <td>0</td>\n",
       "      <td>0</td>\n",
       "      <td>0</td>\n",
       "      <td>0</td>\n",
       "      <td>0</td>\n",
       "      <td>0</td>\n",
       "    </tr>\n",
       "    <tr>\n",
       "      <th>6</th>\n",
       "      <td>240.0</td>\n",
       "      <td>4.0</td>\n",
       "      <td>4.0</td>\n",
       "      <td>1</td>\n",
       "      <td>0</td>\n",
       "      <td>0</td>\n",
       "      <td>0</td>\n",
       "      <td>0</td>\n",
       "      <td>0</td>\n",
       "      <td>0</td>\n",
       "      <td>0</td>\n",
       "      <td>0</td>\n",
       "      <td>0</td>\n",
       "      <td>0</td>\n",
       "    </tr>\n",
       "  </tbody>\n",
       "</table>\n",
       "</div>"
      ],
      "text/plain": [
       "   land_size_sqm  Bedrooms  Bathrooms  Almanza Dos, Las Pinas  \\\n",
       "2          267.0       4.0        4.0                       1   \n",
       "3          120.0       3.0        2.0                       1   \n",
       "4          240.0       4.0        4.0                       1   \n",
       "5          120.0       4.0        4.0                       1   \n",
       "6          240.0       4.0        4.0                       1   \n",
       "\n",
       "   Ayala Alabang, Muntinlupa  B.F. Homes, Paranaque  Don Bosco, Paranaque  \\\n",
       "2                          0                      0                     0   \n",
       "3                          0                      0                     0   \n",
       "4                          0                      0                     0   \n",
       "5                          0                      0                     0   \n",
       "6                          0                      0                     0   \n",
       "\n",
       "   Matandang Balara, Quezon City  Merville, Paranaque  Molino IV, Bacoor  \\\n",
       "2                              0                    0                  0   \n",
       "3                              0                    0                  0   \n",
       "4                              0                    0                  0   \n",
       "5                              0                    0                  0   \n",
       "6                              0                    0                  0   \n",
       "\n",
       "   Pilar, Las Pinas  San Isidro, Cainta  Talon Dos, Las Pinas  \\\n",
       "2                 0                   0                     0   \n",
       "3                 0                   0                     0   \n",
       "4                 0                   0                     0   \n",
       "5                 0                   0                     0   \n",
       "6                 0                   0                     0   \n",
       "\n",
       "   Talon Singko, Las Pinas  \n",
       "2                        0  \n",
       "3                        0  \n",
       "4                        0  \n",
       "5                        0  \n",
       "6                        0  "
      ]
     },
     "execution_count": 95,
     "metadata": {},
     "output_type": "execute_result"
    }
   ],
   "source": [
    "X = df14.drop('Price(Php)', axis='columns')\n",
    "X.head()"
   ]
  },
  {
   "cell_type": "code",
   "execution_count": 75,
   "id": "53153f8e-ea79-4a37-a5da-ea8ac43c2f3d",
   "metadata": {
    "tags": []
   },
   "outputs": [
    {
     "data": {
      "text/plain": [
       "2    38003100.0\n",
       "3    18000000.0\n",
       "4    34242500.0\n",
       "5    19817000.0\n",
       "6    34240000.0\n",
       "Name: Price(Php), dtype: float64"
      ]
     },
     "execution_count": 75,
     "metadata": {},
     "output_type": "execute_result"
    }
   ],
   "source": [
    "y = df13['Price(Php)']\n",
    "y.head()"
   ]
  },
  {
   "cell_type": "code",
   "execution_count": 76,
   "id": "c1a61dd3-aff5-4116-b1d1-5b2d9ed5689c",
   "metadata": {
    "tags": []
   },
   "outputs": [
    {
     "data": {
      "text/plain": [
       "531"
      ]
     },
     "execution_count": 76,
     "metadata": {},
     "output_type": "execute_result"
    }
   ],
   "source": [
    "len(y)"
   ]
  },
  {
   "cell_type": "code",
   "execution_count": 96,
   "id": "b0c679b7-3ab6-44ae-acfd-465eb01e3e66",
   "metadata": {
    "tags": []
   },
   "outputs": [],
   "source": [
    "from sklearn.model_selection import train_test_split  # function that split the data into training and testing sets for building and evaluationg a machine leaerning model\n",
    "X_train, X_test, y_train, y_test = train_test_split(X,y,test_size=0.2,random_state=10) #20% will be used for testing while remaining 80% will be for training. data is randomly shuffled"
   ]
  },
  {
   "cell_type": "code",
   "execution_count": 97,
   "id": "2ac94b7d-7af2-43fe-99be-c80c6ba0b953",
   "metadata": {
    "tags": []
   },
   "outputs": [
    {
     "data": {
      "text/plain": [
       "0.8498472218376962"
      ]
     },
     "execution_count": 97,
     "metadata": {},
     "output_type": "execute_result"
    }
   ],
   "source": [
    "from sklearn.linear_model import LinearRegression  # import LinearRegression() class, which is used to create a linear regression model.\n",
    "lr_clf = LinearRegression()  # creating an instance of the LinearRegression() class and initializes it as lr_clf. This will represeng the linear regression model\n",
    "lr_clf.fit(X_train,y_train)  # train the linear regression model using training data. Both input features for training and corresponding target values\n",
    "lr_clf.score(X_test,y_test)  # evaluate the model's performance on the testing data. \n",
    "\n",
    "# returns coefficient of determination (R-squared) of the prediction. R-squared measures how well the linear regression model fits the data."
   ]
  },
  {
   "cell_type": "code",
   "execution_count": 79,
   "id": "bdbb322b-86fd-4714-acb7-ee2d58da0a3b",
   "metadata": {
    "tags": []
   },
   "outputs": [
    {
     "data": {
      "text/plain": [
       "array([0.9074159 , 0.71630236, 0.65011283, 0.8564317 , 0.85230705])"
      ]
     },
     "execution_count": 79,
     "metadata": {},
     "output_type": "execute_result"
    }
   ],
   "source": [
    "from sklearn.model_selection import ShuffleSplit  # class that used to create a cross-validation strategy based on shuffling the data.\n",
    "from sklearn.model_selection import cross_val_score  # a function used to perform cross-validation and obtain the scores for each fold\n",
    "\n",
    "cv = ShuffleSplit(n_splits=5, test_size=0.2, random_state=0)  # create instance named cv. Specify the cross-validation strategy. Data split into 5 folds each fold contains 20% of the \n",
    "                                                              # data. Ensure reproducibility so reconstructing the same model is possible\n",
    "\n",
    "cross_val_score(LinearRegression(), X, y, cv=cv)  # perform cross-validation using linear regression model on the feature matrix X and target variable y using strategy by instance cv"
   ]
  },
  {
   "cell_type": "code",
   "execution_count": 98,
   "id": "92746f3c-d43b-4a8f-bb35-f50f0b50e583",
   "metadata": {
    "tags": []
   },
   "outputs": [
    {
     "name": "stderr",
     "output_type": "stream",
     "text": [
      "C:\\Users\\Gregs\\anaconda3\\Lib\\site-packages\\sklearn\\model_selection\\_validation.py:378: FitFailedWarning: \n",
      "10 fits failed out of a total of 20.\n",
      "The score on these train-test partitions for these parameters will be set to nan.\n",
      "If these failures are not expected, you can try to debug them by setting error_score='raise'.\n",
      "\n",
      "Below are more details about the failures:\n",
      "--------------------------------------------------------------------------------\n",
      "10 fits failed with the following error:\n",
      "Traceback (most recent call last):\n",
      "  File \"C:\\Users\\Gregs\\anaconda3\\Lib\\site-packages\\sklearn\\model_selection\\_validation.py\", line 686, in _fit_and_score\n",
      "    estimator.fit(X_train, y_train, **fit_params)\n",
      "  File \"C:\\Users\\Gregs\\anaconda3\\Lib\\site-packages\\sklearn\\tree\\_classes.py\", line 1247, in fit\n",
      "    super().fit(\n",
      "  File \"C:\\Users\\Gregs\\anaconda3\\Lib\\site-packages\\sklearn\\tree\\_classes.py\", line 177, in fit\n",
      "    self._validate_params()\n",
      "  File \"C:\\Users\\Gregs\\anaconda3\\Lib\\site-packages\\sklearn\\base.py\", line 600, in _validate_params\n",
      "    validate_parameter_constraints(\n",
      "  File \"C:\\Users\\Gregs\\anaconda3\\Lib\\site-packages\\sklearn\\utils\\_param_validation.py\", line 97, in validate_parameter_constraints\n",
      "    raise InvalidParameterError(\n",
      "sklearn.utils._param_validation.InvalidParameterError: The 'criterion' parameter of DecisionTreeRegressor must be a str among {'absolute_error', 'poisson', 'friedman_mse', 'squared_error'}. Got 'mse' instead.\n",
      "\n",
      "  warnings.warn(some_fits_failed_message, FitFailedWarning)\n",
      "C:\\Users\\Gregs\\anaconda3\\Lib\\site-packages\\sklearn\\model_selection\\_search.py:952: UserWarning: One or more of the test scores are non-finite: [       nan        nan 0.78349807 0.81174609]\n",
      "  warnings.warn(\n"
     ]
    },
    {
     "data": {
      "text/html": [
       "<div>\n",
       "<style scoped>\n",
       "    .dataframe tbody tr th:only-of-type {\n",
       "        vertical-align: middle;\n",
       "    }\n",
       "\n",
       "    .dataframe tbody tr th {\n",
       "        vertical-align: top;\n",
       "    }\n",
       "\n",
       "    .dataframe thead th {\n",
       "        text-align: right;\n",
       "    }\n",
       "</style>\n",
       "<table border=\"1\" class=\"dataframe\">\n",
       "  <thead>\n",
       "    <tr style=\"text-align: right;\">\n",
       "      <th></th>\n",
       "      <th>model</th>\n",
       "      <th>best_score</th>\n",
       "      <th>best_params</th>\n",
       "    </tr>\n",
       "  </thead>\n",
       "  <tbody>\n",
       "    <tr>\n",
       "      <th>0</th>\n",
       "      <td>linear_regression</td>\n",
       "      <td>0.797836</td>\n",
       "      <td>{'fit_intercept': False, 'positive': False}</td>\n",
       "    </tr>\n",
       "    <tr>\n",
       "      <th>1</th>\n",
       "      <td>lasso</td>\n",
       "      <td>0.796514</td>\n",
       "      <td>{'alpha': 2, 'selection': 'cyclic'}</td>\n",
       "    </tr>\n",
       "    <tr>\n",
       "      <th>2</th>\n",
       "      <td>decision_tree</td>\n",
       "      <td>0.811746</td>\n",
       "      <td>{'criterion': 'friedman_mse', 'splitter': 'ran...</td>\n",
       "    </tr>\n",
       "  </tbody>\n",
       "</table>\n",
       "</div>"
      ],
      "text/plain": [
       "               model  best_score  \\\n",
       "0  linear_regression    0.797836   \n",
       "1              lasso    0.796514   \n",
       "2      decision_tree    0.811746   \n",
       "\n",
       "                                         best_params  \n",
       "0        {'fit_intercept': False, 'positive': False}  \n",
       "1                {'alpha': 2, 'selection': 'cyclic'}  \n",
       "2  {'criterion': 'friedman_mse', 'splitter': 'ran...  "
      ]
     },
     "execution_count": 98,
     "metadata": {},
     "output_type": "execute_result"
    }
   ],
   "source": [
    "from sklearn.model_selection import GridSearchCV  # import gridsearchCV this is used to systematically seach for the best combination of hyperparameters for a given model\n",
    "\n",
    "from sklearn.linear_model import Lasso  # import lasso regression model, which is lineare regression model with L1 regularization\n",
    "from sklearn.tree import DecisionTreeRegressor  # a non-linear regression model based on decision tree algorithms\n",
    "\n",
    "def find_best_model_using_gridsearchcv(X,y):  # define a new function to identify the best model among 3 diff algho(LR, Lasso, and Decision Tree Regressor) using hyperparameter tuning\n",
    "                                              # with GridSearchCV\n",
    "    algos = {  # dictionary that will contain 3 different algorithms. Each algorithm includes model class 'model' and hyperparameter grid 'params' for GridSearchCV\n",
    "        'linear_regression' : {\n",
    "            'model': LinearRegression(),\n",
    "            'params': {\n",
    "                'fit_intercept': [True, False],\n",
    "                'positive': [True, False]\n",
    "            }\n",
    "        },\n",
    "        'lasso': {\n",
    "            'model': Lasso(),\n",
    "            'params': {\n",
    "                'alpha': [1,2],\n",
    "                'selection': ['random', 'cyclic']\n",
    "            }\n",
    "        },\n",
    "        'decision_tree': {\n",
    "            'model': DecisionTreeRegressor(),\n",
    "            'params': {\n",
    "                'criterion' : ['mse','friedman_mse'],\n",
    "                'splitter': ['best','random']\n",
    "            }\n",
    "        }\n",
    "    }\n",
    "    scores = []  # contain the disconaries with information about each algoritm's best model performance and hyperparameters\n",
    "    cv = ShuffleSplit(n_splits=5, test_size=0.2, random_state=0)  # create an instance for ShuffleSplit cross-validation strategy\n",
    "    for algo_name, config in algos.items():  # perform GridSearchCV for each alghorithm, finding the best hyperparams and model performance. \n",
    "        gs =  GridSearchCV(config['model'], config['params'], cv=cv, return_train_score=False)\n",
    "        gs.fit(x,y)\n",
    "        scores.append({\n",
    "            'model': algo_name,\n",
    "            'best_score': gs.best_score_,\n",
    "            'best_params': gs.best_params_\n",
    "        })\n",
    "\n",
    "    return pd.DataFrame(scores,columns=['model','best_score','best_params'])  # returns a dataframe that summarizes the results\n",
    "\n",
    "find_best_model_using_gridsearchcv(X,y)"
   ]
  },
  {
   "cell_type": "code",
   "execution_count": 99,
   "id": "7127e08d-9747-4c94-b84f-3c3cf82b7db4",
   "metadata": {
    "tags": []
   },
   "outputs": [
    {
     "data": {
      "text/plain": [
       "Index(['land_size_sqm', 'Bedrooms', 'Bathrooms', 'Almanza Dos, Las Pinas',\n",
       "       'Ayala Alabang, Muntinlupa', 'B.F. Homes, Paranaque',\n",
       "       'Don Bosco, Paranaque', 'Matandang Balara, Quezon City',\n",
       "       'Merville, Paranaque', 'Molino IV, Bacoor', 'Pilar, Las Pinas',\n",
       "       'San Isidro, Cainta', 'Talon Dos, Las Pinas',\n",
       "       'Talon Singko, Las Pinas'],\n",
       "      dtype='object')"
      ]
     },
     "execution_count": 99,
     "metadata": {},
     "output_type": "execute_result"
    }
   ],
   "source": [
    "X.columns"
   ]
  },
  {
   "cell_type": "code",
   "execution_count": 100,
   "id": "7d2ebe2a-f106-4030-98dd-15e7fa1959d2",
   "metadata": {
    "tags": []
   },
   "outputs": [],
   "source": [
    "def predict_price(Location,sqm,Bathrooms,Bedrooms):  # define a function that will predict price of a property based on input parameters\n",
    "    loc_index = np.where(X.columns==Location)[0][0]  # fund the index of the column corresponding to the provided location in the feature x matrix\n",
    "\n",
    "    x = np.zeros(len(X.columns))  # create a numpy array x filled with zeros equal to the number of columns in the feature matrix 'X'. Represents the input features for prediction\n",
    "    x[0] = sqm  # represents the property in square meters\n",
    "    x[1] = Bathrooms  # represents the number of bathrooms\n",
    "    x[2] = Bedrooms  # represents the number of bedrooms\n",
    "    if loc_index >= 0:\n",
    "        x[loc_index] = 1  # the selected location's element will set to 1 if Location is found and skip if not \n",
    "\n",
    "    return lr_clf.predict([x])[0]  # return the predicted price"
   ]
  },
  {
   "cell_type": "code",
   "execution_count": 111,
   "id": "bae5829d-fc9f-491b-8241-f79e7abfc3c8",
   "metadata": {
    "tags": []
   },
   "outputs": [
    {
     "name": "stderr",
     "output_type": "stream",
     "text": [
      "C:\\Users\\Gregs\\anaconda3\\Lib\\site-packages\\sklearn\\base.py:439: UserWarning: X does not have valid feature names, but LinearRegression was fitted with feature names\n",
      "  warnings.warn(\n"
     ]
    },
    {
     "data": {
      "text/plain": [
       "32622809.203050617"
      ]
     },
     "execution_count": 111,
     "metadata": {},
     "output_type": "execute_result"
    }
   ],
   "source": [
    "predict_price('Almanza Dos, Las Pinas',300, 2, 2)"
   ]
  },
  {
   "cell_type": "code",
   "execution_count": 114,
   "id": "5af84895-3cc8-49a5-9733-b3969541d3ae",
   "metadata": {
    "tags": []
   },
   "outputs": [
    {
     "name": "stderr",
     "output_type": "stream",
     "text": [
      "C:\\Users\\Gregs\\anaconda3\\Lib\\site-packages\\sklearn\\base.py:439: UserWarning: X does not have valid feature names, but LinearRegression was fitted with feature names\n",
      "  warnings.warn(\n"
     ]
    },
    {
     "data": {
      "text/plain": [
       "26760043.5052636"
      ]
     },
     "execution_count": 114,
     "metadata": {},
     "output_type": "execute_result"
    }
   ],
   "source": [
    "predict_price('Merville, Paranaque',300, 2, 2)"
   ]
  },
  {
   "cell_type": "code",
   "execution_count": 106,
   "id": "a3406a1c-c38b-44d4-952f-07d790167df3",
   "metadata": {
    "tags": []
   },
   "outputs": [
    {
     "name": "stderr",
     "output_type": "stream",
     "text": [
      "C:\\Users\\Gregs\\anaconda3\\Lib\\site-packages\\sklearn\\base.py:439: UserWarning: X does not have valid feature names, but LinearRegression was fitted with feature names\n",
      "  warnings.warn(\n"
     ]
    },
    {
     "data": {
      "text/plain": [
       "43556700.05887544"
      ]
     },
     "execution_count": 106,
     "metadata": {},
     "output_type": "execute_result"
    }
   ],
   "source": [
    "predict_price('Almanza Dos, Las Pinas',300, 3, 4)"
   ]
  },
  {
   "cell_type": "code",
   "execution_count": 103,
   "id": "820e31b4-e0b3-4d8a-a747-b633ebbda1e9",
   "metadata": {
    "tags": []
   },
   "outputs": [
    {
     "name": "stderr",
     "output_type": "stream",
     "text": [
      "C:\\Users\\Gregs\\anaconda3\\Lib\\site-packages\\sklearn\\base.py:439: UserWarning: X does not have valid feature names, but LinearRegression was fitted with feature names\n",
      "  warnings.warn(\n"
     ]
    },
    {
     "data": {
      "text/plain": [
       "30827631.28350771"
      ]
     },
     "execution_count": 103,
     "metadata": {},
     "output_type": "execute_result"
    }
   ],
   "source": [
    "predict_price('Almanza Dos, Las Pinas',140, 1, 3)"
   ]
  },
  {
   "cell_type": "code",
   "execution_count": 115,
   "id": "2fb2a061-331e-4502-a12a-af1f73e78d0b",
   "metadata": {
    "tags": []
   },
   "outputs": [],
   "source": [
    "import pickle  # module which provides a way to serialize Python objects such as models into binary representation and deserialize them back\n",
    "with open('philippines_home_prices_model.pickle','wb') as f:  \n",
    "    pickle.dump(lr_clf,f)  # using picke.dump() method. Model will be stored in binary format in the file f where trained linear regression model 'lr_clf' is serialized and saved"
   ]
  },
  {
   "cell_type": "code",
   "execution_count": 116,
   "id": "97c41199-3941-4525-844f-601e31927bbb",
   "metadata": {
    "tags": []
   },
   "outputs": [],
   "source": [
    "import json  # a module that provides functions for working with JSON data\n",
    "columns = {  # discionary created \n",
    "    'data_columns' : [col.lower() for col in X.columns]  # key is 'data_colums' walues are converted to lower case. \n",
    "}\n",
    "with open(\"columns.json\",\"w\") as f:  # open a file containing the JSON data of column names\n",
    "    f.write(json.dumps(columns))  #writes the JSON representation of the columns dictionary to the file f"
   ]
  }
 ],
 "metadata": {
  "kernelspec": {
   "display_name": "Python 3 (ipykernel)",
   "language": "python",
   "name": "python3"
  },
  "language_info": {
   "codemirror_mode": {
    "name": "ipython",
    "version": 3
   },
   "file_extension": ".py",
   "mimetype": "text/x-python",
   "name": "python",
   "nbconvert_exporter": "python",
   "pygments_lexer": "ipython3",
   "version": "3.11.3"
  }
 },
 "nbformat": 4,
 "nbformat_minor": 5
}
